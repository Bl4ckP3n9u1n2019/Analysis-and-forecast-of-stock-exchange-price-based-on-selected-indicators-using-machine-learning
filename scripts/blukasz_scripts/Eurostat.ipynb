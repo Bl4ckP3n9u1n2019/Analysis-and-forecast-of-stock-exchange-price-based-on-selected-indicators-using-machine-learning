{
 "cells": [
  {
   "cell_type": "markdown",
   "metadata": {},
   "source": [
    "Dane pobierane są z otwartego API Eurostatu w formacie JSON (https://ec.europa.eu/eurostat/web/json-and-unicode-web-services/about-this-service). Udostępniony \"Query builder\" umożliwia stworzenie odpowiedniego linku do pobrania danych. Następnie JSON parsowany jest do ramki danych z pomocą biblioteki pyjstat (https://pypi.org/project/pyjstat/)"
   ]
  },
  {
   "cell_type": "markdown",
   "metadata": {},
   "source": [
    "ierwszy przykład dla danych dotyczących wielkości GDP (nama_10_gdp)"
   ]
  },
  {
   "cell_type": "code",
   "execution_count": null,
   "metadata": {},
   "outputs": [],
   "source": [
    "from pyjstat import pyjstat\n",
    "import plotly.express as px\n",
    "\n",
    "# wygenerowany link (generator pozwala na wstępną filtrację danych)\n",
    "URL = 'http://ec.europa.eu/eurostat/wdds/rest/data/v2.1/json/en/nama_10_gdp?na_item=B1G&sinceTimePeriod=2010&precision=1&unit=CLV05_MEUR'\n",
    "\n",
    "# wczytanie danych do obiektu json-stat\n",
    "dataset = pyjstat.Dataset.read(URL)\n",
    "\n",
    "# zapisanie danych do ramki danych \n",
    "df = dataset.write('dataframe')\n",
    "\n",
    "# filtrowanie\n",
    "df_ = df[df.geo.str.match('Euro.*')]\n",
    "\n",
    "# Plotly - Pojedynczy wykres\n",
    "fig = px.line(\n",
    "    df_,\n",
    "    x=\"time\",\n",
    "    y=\"value\",\n",
    "    color=\"geo\",\n",
    "    labels={'time':'Year', 'value':'Value (mln Euro)'},\n",
    "    title = 'GDP and main components (output, expenditure and income)'\n",
    "    )\n",
    "fig.write_html('Eurostat_GDP.html', auto_open=True)"
   ]
  },
  {
   "cell_type": "markdown",
   "metadata": {},
   "source": [
    "Następny przykład dla danych dotyczących wielkości populacji (tps00001)"
   ]
  },
  {
   "cell_type": "code",
   "execution_count": null,
   "metadata": {},
   "outputs": [],
   "source": [
    "from pyjstat import pyjstat\n",
    "import plotly.express as px\n",
    "\n",
    "URL = 'http://ec.europa.eu/eurostat/wdds/rest/data/v2.1/json/en/tps00001?sinceTimePeriod=2010&indic_de=JAN&precision=1'\n",
    "\n",
    "dataset = pyjstat.Dataset.read(URL)\n",
    "df = dataset.write('dataframe')\n",
    "\n",
    "df_ = df[df.geo.str.match('Euro.*')]\n",
    "\n",
    "fig = px.line(\n",
    "    df_,\n",
    "    x=\"time\",\n",
    "    y=\"value\",\n",
    "    color=\"geo\",\n",
    "    labels={'time':'Year', 'value':'Count'},\n",
    "    title = 'Population on 1 January'\n",
    "    )\n",
    "fig.write_html('Eurostat_Population.html', auto_open=True)"
   ]
  },
  {
   "cell_type": "markdown",
   "metadata": {},
   "source": [
    "Kolejny przykład, kurs wymiany euro na dolara (ert_bil_eur_d)"
   ]
  },
  {
   "cell_type": "code",
   "execution_count": null,
   "metadata": {},
   "outputs": [],
   "source": [
    "from pyjstat import pyjstat\n",
    "import plotly.express as px\n",
    "\n",
    "EXAMPLE_URL = 'http://ec.europa.eu/eurostat/wdds/rest/data/v2.1/json/en/ert_bil_eur_d?sinceTimePeriod=2010M01D01&precision=1&unit=NAC&statinfo=AVG&currency=USD'\n",
    "\n",
    "dataset = pyjstat.Dataset.read(EXAMPLE_URL)\n",
    "df = dataset.write('dataframe')\n",
    "\n",
    "fig = px.line(\n",
    "    df,\n",
    "    x=\"time\",\n",
    "    y=\"value\",\n",
    "    labels={'time':'Date', 'value':'Exchange rate'},\n",
    "    title = 'Euro/USD exchange rates - daily data'\n",
    "    )\n",
    "fig.write_html('Eurostat_EURtoUSD.html', auto_open=True)"
   ]
  }
 ],
 "metadata": {
  "kernelspec": {
   "display_name": "Python 3.7.6 64-bit ('base': conda)",
   "language": "python",
   "name": "python37664bitbasecondad768b1d42898463a9917201a4dd54dab"
  },
  "language_info": {
   "name": ""
  }
 },
 "nbformat": 4,
 "nbformat_minor": 4
}
