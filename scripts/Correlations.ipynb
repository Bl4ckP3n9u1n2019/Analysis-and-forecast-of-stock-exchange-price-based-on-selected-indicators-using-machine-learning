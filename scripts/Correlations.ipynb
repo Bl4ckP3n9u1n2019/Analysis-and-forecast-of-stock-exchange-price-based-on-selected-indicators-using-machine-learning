{
 "cells": [
  {
   "cell_type": "markdown",
   "metadata": {},
   "source": [
    "# Correlations"
   ]
  },
  {
   "cell_type": "code",
   "execution_count": 1,
   "metadata": {},
   "outputs": [
    {
     "data": {
      "text/html": [
       "<div>\n",
       "<style scoped>\n",
       "    .dataframe tbody tr th:only-of-type {\n",
       "        vertical-align: middle;\n",
       "    }\n",
       "\n",
       "    .dataframe tbody tr th {\n",
       "        vertical-align: top;\n",
       "    }\n",
       "\n",
       "    .dataframe thead th {\n",
       "        text-align: right;\n",
       "    }\n",
       "</style>\n",
       "<table border=\"1\" class=\"dataframe\">\n",
       "  <thead>\n",
       "    <tr style=\"text-align: right;\">\n",
       "      <th></th>\n",
       "      <th>Date</th>\n",
       "      <th>Gold</th>\n",
       "      <th>Covid19</th>\n",
       "      <th>Sp500</th>\n",
       "    </tr>\n",
       "  </thead>\n",
       "  <tbody>\n",
       "    <tr>\n",
       "      <td>2590</td>\n",
       "      <td>2020-04-20 00:00:00</td>\n",
       "      <td>1686.20</td>\n",
       "      <td>2355774.0</td>\n",
       "      <td>2823.16</td>\n",
       "    </tr>\n",
       "    <tr>\n",
       "      <td>2591</td>\n",
       "      <td>2020-04-21 00:00:00</td>\n",
       "      <td>1682.05</td>\n",
       "      <td>2433048.0</td>\n",
       "      <td>2736.56</td>\n",
       "    </tr>\n",
       "    <tr>\n",
       "      <td>2592</td>\n",
       "      <td>2020-04-22 00:00:00</td>\n",
       "      <td>1710.55</td>\n",
       "      <td>2520435.0</td>\n",
       "      <td>2799.31</td>\n",
       "    </tr>\n",
       "    <tr>\n",
       "      <td>2593</td>\n",
       "      <td>2020-04-23 00:00:00</td>\n",
       "      <td>1736.25</td>\n",
       "      <td>2588064.0</td>\n",
       "      <td>2797.80</td>\n",
       "    </tr>\n",
       "    <tr>\n",
       "      <td>2594</td>\n",
       "      <td>2020-04-24 00:00:00</td>\n",
       "      <td>1715.90</td>\n",
       "      <td>2668137.0</td>\n",
       "      <td>2836.74</td>\n",
       "    </tr>\n",
       "  </tbody>\n",
       "</table>\n",
       "</div>"
      ],
      "text/plain": [
       "                     Date     Gold    Covid19    Sp500\n",
       "2590  2020-04-20 00:00:00  1686.20  2355774.0  2823.16\n",
       "2591  2020-04-21 00:00:00  1682.05  2433048.0  2736.56\n",
       "2592  2020-04-22 00:00:00  1710.55  2520435.0  2799.31\n",
       "2593  2020-04-23 00:00:00  1736.25  2588064.0  2797.80\n",
       "2594  2020-04-24 00:00:00  1715.90  2668137.0  2836.74"
      ]
     },
     "execution_count": 1,
     "metadata": {},
     "output_type": "execute_result"
    }
   ],
   "source": [
    "#import libriaries\n",
    "import pandas as pd\n",
    "import numpy as np\n",
    "import datetime as dt\n",
    "import pyodbc\n",
    "import datetime\n",
    "import plotly.express as px\n",
    "import sqlite3\n",
    "import os\n",
    "import sqlite3\n",
    "\n",
    "#Destination folder\n",
    "os.chdir(\"C:/Users/Lukasz/Documents/GitHub/Analysis-and-forecast-of-stock-exchange-price-based-on-selected-indicators-using-machine-learning/data\")\n",
    "\n",
    "# Create your connection.\n",
    "conn = sqlite3.connect('predictions.db')\n",
    "c = conn.cursor()"
   ]
  },
  {
   "cell_type": "markdown",
   "metadata": {},
   "source": [
    "# SP500 correlations"
   ]
  },
  {
   "cell_type": "code",
   "execution_count": null,
   "metadata": {},
   "outputs": [],
   "source": [
    "#Get SQLLite select statement SP500 index and indicators\n",
    "df = pd.read_sql_query(\"\"\"select SP.\"Date\",g.\"Index\" as Gold, C19.\"Index\" Covid19, SP.\"Index\" as Sp500\n",
    " from SP500 as SP\n",
    "  LEFT OUTER JOIN Covid19 as C19 ON SP.Date = C19.Date\n",
    "  LEFT OUTER JOIN Gold as g ON SP.Date=g.Date\n",
    "Where SP.Date IS NOT NULL\n",
    "\"\"\", conn)\n",
    "df.tail()"
   ]
  },
  {
   "cell_type": "code",
   "execution_count": 24,
   "metadata": {},
   "outputs": [
    {
     "data": {
      "text/html": [
       "<div>\n",
       "<style scoped>\n",
       "    .dataframe tbody tr th:only-of-type {\n",
       "        vertical-align: middle;\n",
       "    }\n",
       "\n",
       "    .dataframe tbody tr th {\n",
       "        vertical-align: top;\n",
       "    }\n",
       "\n",
       "    .dataframe thead th {\n",
       "        text-align: right;\n",
       "    }\n",
       "</style>\n",
       "<table border=\"1\" class=\"dataframe\">\n",
       "  <thead>\n",
       "    <tr style=\"text-align: right;\">\n",
       "      <th></th>\n",
       "      <th>Gold</th>\n",
       "      <th>Covid19</th>\n",
       "      <th>Sp500</th>\n",
       "    </tr>\n",
       "  </thead>\n",
       "  <tbody>\n",
       "    <tr>\n",
       "      <td>Gold</td>\n",
       "      <td>1.000000</td>\n",
       "      <td>0.710201</td>\n",
       "      <td>-0.240904</td>\n",
       "    </tr>\n",
       "    <tr>\n",
       "      <td>Covid19</td>\n",
       "      <td>0.710201</td>\n",
       "      <td>1.000000</td>\n",
       "      <td>-0.440957</td>\n",
       "    </tr>\n",
       "    <tr>\n",
       "      <td>Sp500</td>\n",
       "      <td>-0.240904</td>\n",
       "      <td>-0.440957</td>\n",
       "      <td>1.000000</td>\n",
       "    </tr>\n",
       "  </tbody>\n",
       "</table>\n",
       "</div>"
      ],
      "text/plain": [
       "             Gold   Covid19     Sp500\n",
       "Gold     1.000000  0.710201 -0.240904\n",
       "Covid19  0.710201  1.000000 -0.440957\n",
       "Sp500   -0.240904 -0.440957  1.000000"
      ]
     },
     "execution_count": 24,
     "metadata": {},
     "output_type": "execute_result"
    },
    {
     "data": {
      "image/png": "[encoded data removed]",
      "text/plain": [
       "<Figure size 432x288 with 2 Axes>"
      ]
     },
     "metadata": {
      "needs_background": "light"
     },
     "output_type": "display_data"
    }
   ],
   "source": [
    "#Make correlation table with heatmap\n",
    "import seaborn as sns\n",
    "import matplotlib.pyplot as plt\n",
    "%matplotlib inline\n",
    "corr = df.corr()\n",
    "sns.heatmap(corr, \n",
    "        xticklabels=corr.columns,\n",
    "        yticklabels=corr.columns)\n",
    "\n",
    "#Make correlation basic table\n",
    "df.corr()"
   ]
  },
  {
   "cell_type": "markdown",
   "metadata": {},
   "source": [
    "# Boening correlations"
   ]
  },
  {
   "cell_type": "code",
   "execution_count": 9,
   "metadata": {},
   "outputs": [
    {
     "data": {
      "text/html": [
       "<div>\n",
       "<style scoped>\n",
       "    .dataframe tbody tr th:only-of-type {\n",
       "        vertical-align: middle;\n",
       "    }\n",
       "\n",
       "    .dataframe tbody tr th {\n",
       "        vertical-align: top;\n",
       "    }\n",
       "\n",
       "    .dataframe thead th {\n",
       "        text-align: right;\n",
       "    }\n",
       "</style>\n",
       "<table border=\"1\" class=\"dataframe\">\n",
       "  <thead>\n",
       "    <tr style=\"text-align: right;\">\n",
       "      <th></th>\n",
       "      <th>Date</th>\n",
       "      <th>Crude_Oil</th>\n",
       "      <th>Covid19</th>\n",
       "      <th>Boeining</th>\n",
       "    </tr>\n",
       "  </thead>\n",
       "  <tbody>\n",
       "    <tr>\n",
       "      <td>2590</td>\n",
       "      <td>2020-04-20 00:00:00</td>\n",
       "      <td>NaN</td>\n",
       "      <td>2355774.0</td>\n",
       "      <td>143.61</td>\n",
       "    </tr>\n",
       "    <tr>\n",
       "      <td>2591</td>\n",
       "      <td>2020-04-21 00:00:00</td>\n",
       "      <td>NaN</td>\n",
       "      <td>2433048.0</td>\n",
       "      <td>136.33</td>\n",
       "    </tr>\n",
       "    <tr>\n",
       "      <td>2592</td>\n",
       "      <td>2020-04-22 00:00:00</td>\n",
       "      <td>NaN</td>\n",
       "      <td>2520435.0</td>\n",
       "      <td>134.97</td>\n",
       "    </tr>\n",
       "    <tr>\n",
       "      <td>2593</td>\n",
       "      <td>2020-04-23 00:00:00</td>\n",
       "      <td>NaN</td>\n",
       "      <td>2588064.0</td>\n",
       "      <td>137.74</td>\n",
       "    </tr>\n",
       "    <tr>\n",
       "      <td>2594</td>\n",
       "      <td>2020-04-24 00:00:00</td>\n",
       "      <td>NaN</td>\n",
       "      <td>2668137.0</td>\n",
       "      <td>128.98</td>\n",
       "    </tr>\n",
       "  </tbody>\n",
       "</table>\n",
       "</div>"
      ],
      "text/plain": [
       "                     Date  Crude_Oil    Covid19  Boeining\n",
       "2590  2020-04-20 00:00:00        NaN  2355774.0    143.61\n",
       "2591  2020-04-21 00:00:00        NaN  2433048.0    136.33\n",
       "2592  2020-04-22 00:00:00        NaN  2520435.0    134.97\n",
       "2593  2020-04-23 00:00:00        NaN  2588064.0    137.74\n",
       "2594  2020-04-24 00:00:00        NaN  2668137.0    128.98"
      ]
     },
     "execution_count": 9,
     "metadata": {},
     "output_type": "execute_result"
    }
   ],
   "source": [
    "#Get SQLLite select statement Boening stock prices and indicators\n",
    "df2 = pd.read_sql_query(\"\"\"select bo.\"Date\", co.\"Index\" as Crude_Oil, C19.\"Index\" as Covid19, bo.\"Index\" as Boeining\n",
    " from Boening as bo\n",
    "  LEFT OUTER JOIN Covid19 as C19 ON bo.Date = C19.Date\n",
    "  LEFT OUTER JOIN crude_oil as co ON bo.Date=co.Date\n",
    "Where bo.\"Index\" IS NOT NULL\n",
    "\"\"\", conn)\n",
    "\n",
    "df2.tail()"
   ]
  },
  {
   "cell_type": "code",
   "execution_count": 27,
   "metadata": {},
   "outputs": [
    {
     "data": {
      "text/html": [
       "<div>\n",
       "<style scoped>\n",
       "    .dataframe tbody tr th:only-of-type {\n",
       "        vertical-align: middle;\n",
       "    }\n",
       "\n",
       "    .dataframe tbody tr th {\n",
       "        vertical-align: top;\n",
       "    }\n",
       "\n",
       "    .dataframe thead th {\n",
       "        text-align: right;\n",
       "    }\n",
       "</style>\n",
       "<table border=\"1\" class=\"dataframe\">\n",
       "  <thead>\n",
       "    <tr style=\"text-align: right;\">\n",
       "      <th></th>\n",
       "      <th>Crude_Oil</th>\n",
       "      <th>Covid19</th>\n",
       "      <th>Boeining</th>\n",
       "    </tr>\n",
       "  </thead>\n",
       "  <tbody>\n",
       "    <tr>\n",
       "      <td>Crude_Oil</td>\n",
       "      <td>1.000000</td>\n",
       "      <td>-0.717002</td>\n",
       "      <td>-0.462378</td>\n",
       "    </tr>\n",
       "    <tr>\n",
       "      <td>Covid19</td>\n",
       "      <td>-0.717002</td>\n",
       "      <td>1.000000</td>\n",
       "      <td>-0.668084</td>\n",
       "    </tr>\n",
       "    <tr>\n",
       "      <td>Boeining</td>\n",
       "      <td>-0.462378</td>\n",
       "      <td>-0.668084</td>\n",
       "      <td>1.000000</td>\n",
       "    </tr>\n",
       "  </tbody>\n",
       "</table>\n",
       "</div>"
      ],
      "text/plain": [
       "           Crude_Oil   Covid19  Boeining\n",
       "Crude_Oil   1.000000 -0.717002 -0.462378\n",
       "Covid19    -0.717002  1.000000 -0.668084\n",
       "Boeining   -0.462378 -0.668084  1.000000"
      ]
     },
     "execution_count": 27,
     "metadata": {},
     "output_type": "execute_result"
    },
    {
     "data": {
      "image/png": "[encoded data removed]",
      "text/plain": [
       "<Figure size 432x288 with 2 Axes>"
      ]
     },
     "metadata": {
      "needs_background": "light"
     },
     "output_type": "display_data"
    }
   ],
   "source": [
    "#Make correlation table with heatmap\n",
    "import seaborn as sns\n",
    "import matplotlib.pyplot as plt\n",
    "%matplotlib inline\n",
    "corr = df2.corr()\n",
    "sns.heatmap(corr, \n",
    "        xticklabels=corr.columns,\n",
    "        yticklabels=corr.columns)\n",
    "\n",
    "#Make correlation basic table\n",
    "df2.corr()"
   ]
  },
  {
   "cell_type": "markdown",
   "metadata": {},
   "source": [
    "# Exxon mobil correlations"
   ]
  },
  {
   "cell_type": "code",
   "execution_count": 17,
   "metadata": {},
   "outputs": [
    {
     "data": {
      "text/html": [
       "<div>\n",
       "<style scoped>\n",
       "    .dataframe tbody tr th:only-of-type {\n",
       "        vertical-align: middle;\n",
       "    }\n",
       "\n",
       "    .dataframe tbody tr th {\n",
       "        vertical-align: top;\n",
       "    }\n",
       "\n",
       "    .dataframe thead th {\n",
       "        text-align: right;\n",
       "    }\n",
       "</style>\n",
       "<table border=\"1\" class=\"dataframe\">\n",
       "  <thead>\n",
       "    <tr style=\"text-align: right;\">\n",
       "      <th></th>\n",
       "      <th>Date</th>\n",
       "      <th>Crude_Oil</th>\n",
       "      <th>Gold</th>\n",
       "      <th>Exxon_mobil</th>\n",
       "    </tr>\n",
       "  </thead>\n",
       "  <tbody>\n",
       "    <tr>\n",
       "      <td>2590</td>\n",
       "      <td>2020-04-20 00:00:00</td>\n",
       "      <td>NaN</td>\n",
       "      <td>1686.20</td>\n",
       "      <td>41.18</td>\n",
       "    </tr>\n",
       "    <tr>\n",
       "      <td>2591</td>\n",
       "      <td>2020-04-21 00:00:00</td>\n",
       "      <td>NaN</td>\n",
       "      <td>1682.05</td>\n",
       "      <td>40.96</td>\n",
       "    </tr>\n",
       "    <tr>\n",
       "      <td>2592</td>\n",
       "      <td>2020-04-22 00:00:00</td>\n",
       "      <td>NaN</td>\n",
       "      <td>1710.55</td>\n",
       "      <td>42.13</td>\n",
       "    </tr>\n",
       "    <tr>\n",
       "      <td>2593</td>\n",
       "      <td>2020-04-23 00:00:00</td>\n",
       "      <td>NaN</td>\n",
       "      <td>1736.25</td>\n",
       "      <td>43.45</td>\n",
       "    </tr>\n",
       "    <tr>\n",
       "      <td>2594</td>\n",
       "      <td>2020-04-24 00:00:00</td>\n",
       "      <td>NaN</td>\n",
       "      <td>1715.90</td>\n",
       "      <td>43.73</td>\n",
       "    </tr>\n",
       "  </tbody>\n",
       "</table>\n",
       "</div>"
      ],
      "text/plain": [
       "                     Date  Crude_Oil     Gold  Exxon_mobil\n",
       "2590  2020-04-20 00:00:00        NaN  1686.20        41.18\n",
       "2591  2020-04-21 00:00:00        NaN  1682.05        40.96\n",
       "2592  2020-04-22 00:00:00        NaN  1710.55        42.13\n",
       "2593  2020-04-23 00:00:00        NaN  1736.25        43.45\n",
       "2594  2020-04-24 00:00:00        NaN  1715.90        43.73"
      ]
     },
     "execution_count": 17,
     "metadata": {},
     "output_type": "execute_result"
    }
   ],
   "source": [
    "#Get SQLLite select statement Exxon_mobil stock prices and indicators\n",
    "df3 = pd.read_sql_query(\"\"\"select em.\"Date\", co.\"Index\" as Crude_Oil, g.\"Index\" as Gold, em.\"Index\" as Exxon_mobil\n",
    " from Exxon_mobil as em\n",
    "  LEFT OUTER JOIN Gold as g ON em.Date = g.Date\n",
    "  LEFT OUTER JOIN crude_oil as co ON em.Date=co.Date\n",
    "Where em.\"Index\" IS NOT NULL\n",
    "\"\"\", conn)\n"
   ]
  },
  {
   "cell_type": "code",
   "execution_count": 30,
   "metadata": {},
   "outputs": [
    {
     "data": {
      "text/html": [
       "<div>\n",
       "<style scoped>\n",
       "    .dataframe tbody tr th:only-of-type {\n",
       "        vertical-align: middle;\n",
       "    }\n",
       "\n",
       "    .dataframe tbody tr th {\n",
       "        vertical-align: top;\n",
       "    }\n",
       "\n",
       "    .dataframe thead th {\n",
       "        text-align: right;\n",
       "    }\n",
       "</style>\n",
       "<table border=\"1\" class=\"dataframe\">\n",
       "  <thead>\n",
       "    <tr style=\"text-align: right;\">\n",
       "      <th></th>\n",
       "      <th>Crude_Oil</th>\n",
       "      <th>Gold</th>\n",
       "      <th>Exxon_mobil</th>\n",
       "    </tr>\n",
       "  </thead>\n",
       "  <tbody>\n",
       "    <tr>\n",
       "      <td>Crude_Oil</td>\n",
       "      <td>1.000000</td>\n",
       "      <td>0.437870</td>\n",
       "      <td>0.375791</td>\n",
       "    </tr>\n",
       "    <tr>\n",
       "      <td>Gold</td>\n",
       "      <td>0.437870</td>\n",
       "      <td>1.000000</td>\n",
       "      <td>-0.055359</td>\n",
       "    </tr>\n",
       "    <tr>\n",
       "      <td>Exxon_mobil</td>\n",
       "      <td>0.375791</td>\n",
       "      <td>-0.055359</td>\n",
       "      <td>1.000000</td>\n",
       "    </tr>\n",
       "  </tbody>\n",
       "</table>\n",
       "</div>"
      ],
      "text/plain": [
       "             Crude_Oil      Gold  Exxon_mobil\n",
       "Crude_Oil     1.000000  0.437870     0.375791\n",
       "Gold          0.437870  1.000000    -0.055359\n",
       "Exxon_mobil   0.375791 -0.055359     1.000000"
      ]
     },
     "execution_count": 30,
     "metadata": {},
     "output_type": "execute_result"
    },
    {
     "data": {
      "image/png": "[encoded data removed]",
      "text/plain": [
       "<Figure size 432x288 with 2 Axes>"
      ]
     },
     "metadata": {
      "needs_background": "light"
     },
     "output_type": "display_data"
    }
   ],
   "source": [
    "#Make correlation table with heatmap\n",
    "import seaborn as sns\n",
    "import matplotlib.pyplot as plt\n",
    "%matplotlib inline\n",
    "corr = df3.corr()\n",
    "sns.heatmap(corr, \n",
    "        xticklabels=corr.columns,\n",
    "        yticklabels=corr.columns)\n",
    "\n",
    "#Make correlation basic table\n",
    "df3.corr()"
   ]
  },
  {
   "cell_type": "markdown",
   "metadata": {},
   "source": [
    "# Alaska air group correlations"
   ]
  },
  {
   "cell_type": "code",
   "execution_count": 20,
   "metadata": {},
   "outputs": [
    {
     "data": {
      "text/html": [
       "<div>\n",
       "<style scoped>\n",
       "    .dataframe tbody tr th:only-of-type {\n",
       "        vertical-align: middle;\n",
       "    }\n",
       "\n",
       "    .dataframe tbody tr th {\n",
       "        vertical-align: top;\n",
       "    }\n",
       "\n",
       "    .dataframe thead th {\n",
       "        text-align: right;\n",
       "    }\n",
       "</style>\n",
       "<table border=\"1\" class=\"dataframe\">\n",
       "  <thead>\n",
       "    <tr style=\"text-align: right;\">\n",
       "      <th></th>\n",
       "      <th>Date</th>\n",
       "      <th>Crude_Oil</th>\n",
       "      <th>Covid19</th>\n",
       "      <th>Alaska_Air_Group</th>\n",
       "    </tr>\n",
       "  </thead>\n",
       "  <tbody>\n",
       "    <tr>\n",
       "      <td>2590</td>\n",
       "      <td>2020-04-20 00:00:00</td>\n",
       "      <td>NaN</td>\n",
       "      <td>2355774.0</td>\n",
       "      <td>29.23</td>\n",
       "    </tr>\n",
       "    <tr>\n",
       "      <td>2591</td>\n",
       "      <td>2020-04-21 00:00:00</td>\n",
       "      <td>NaN</td>\n",
       "      <td>2433048.0</td>\n",
       "      <td>28.29</td>\n",
       "    </tr>\n",
       "    <tr>\n",
       "      <td>2592</td>\n",
       "      <td>2020-04-22 00:00:00</td>\n",
       "      <td>NaN</td>\n",
       "      <td>2520435.0</td>\n",
       "      <td>27.53</td>\n",
       "    </tr>\n",
       "    <tr>\n",
       "      <td>2593</td>\n",
       "      <td>2020-04-23 00:00:00</td>\n",
       "      <td>NaN</td>\n",
       "      <td>2588064.0</td>\n",
       "      <td>28.20</td>\n",
       "    </tr>\n",
       "    <tr>\n",
       "      <td>2594</td>\n",
       "      <td>2020-04-24 00:00:00</td>\n",
       "      <td>NaN</td>\n",
       "      <td>2668137.0</td>\n",
       "      <td>28.01</td>\n",
       "    </tr>\n",
       "  </tbody>\n",
       "</table>\n",
       "</div>"
      ],
      "text/plain": [
       "                     Date  Crude_Oil    Covid19  Alaska_Air_Group\n",
       "2590  2020-04-20 00:00:00        NaN  2355774.0             29.23\n",
       "2591  2020-04-21 00:00:00        NaN  2433048.0             28.29\n",
       "2592  2020-04-22 00:00:00        NaN  2520435.0             27.53\n",
       "2593  2020-04-23 00:00:00        NaN  2588064.0             28.20\n",
       "2594  2020-04-24 00:00:00        NaN  2668137.0             28.01"
      ]
     },
     "execution_count": 20,
     "metadata": {},
     "output_type": "execute_result"
    }
   ],
   "source": [
    "#Get SQLLite select statement Alaska air group stock prices and indicators\n",
    "df4 = pd.read_sql_query(\"\"\"select ag.\"Date\", co.\"Index\" as Crude_Oil, C19.\"Index\" as Covid19, ag.\"Index\" as Alaska_Air_Group\n",
    " from Alaska_Air_Group as ag\n",
    "   LEFT OUTER JOIN Covid19 as C19 ON ag.Date = C19.Date\n",
    "  LEFT OUTER JOIN crude_oil as co ON ag.Date=co.Date\n",
    "Where ag.\"Index\" IS NOT NULL\n",
    "\"\"\", conn)\n",
    "df4.tail()"
   ]
  },
  {
   "cell_type": "code",
   "execution_count": 29,
   "metadata": {},
   "outputs": [
    {
     "data": {
      "text/html": [
       "<div>\n",
       "<style scoped>\n",
       "    .dataframe tbody tr th:only-of-type {\n",
       "        vertical-align: middle;\n",
       "    }\n",
       "\n",
       "    .dataframe tbody tr th {\n",
       "        vertical-align: top;\n",
       "    }\n",
       "\n",
       "    .dataframe thead th {\n",
       "        text-align: right;\n",
       "    }\n",
       "</style>\n",
       "<table border=\"1\" class=\"dataframe\">\n",
       "  <thead>\n",
       "    <tr style=\"text-align: right;\">\n",
       "      <th></th>\n",
       "      <th>Crude_Oil</th>\n",
       "      <th>Covid19</th>\n",
       "      <th>Alaska_Air_Group</th>\n",
       "    </tr>\n",
       "  </thead>\n",
       "  <tbody>\n",
       "    <tr>\n",
       "      <td>Crude_Oil</td>\n",
       "      <td>1.000000</td>\n",
       "      <td>-0.717002</td>\n",
       "      <td>-0.763589</td>\n",
       "    </tr>\n",
       "    <tr>\n",
       "      <td>Covid19</td>\n",
       "      <td>-0.717002</td>\n",
       "      <td>1.000000</td>\n",
       "      <td>-0.680803</td>\n",
       "    </tr>\n",
       "    <tr>\n",
       "      <td>Alaska_Air_Group</td>\n",
       "      <td>-0.763589</td>\n",
       "      <td>-0.680803</td>\n",
       "      <td>1.000000</td>\n",
       "    </tr>\n",
       "  </tbody>\n",
       "</table>\n",
       "</div>"
      ],
      "text/plain": [
       "                  Crude_Oil   Covid19  Alaska_Air_Group\n",
       "Crude_Oil          1.000000 -0.717002         -0.763589\n",
       "Covid19           -0.717002  1.000000         -0.680803\n",
       "Alaska_Air_Group  -0.763589 -0.680803          1.000000"
      ]
     },
     "execution_count": 29,
     "metadata": {},
     "output_type": "execute_result"
    },
    {
     "data": {
      "image/png": "[encoded data removed]",
      "text/plain": [
       "<Figure size 432x288 with 2 Axes>"
      ]
     },
     "metadata": {
      "needs_background": "light"
     },
     "output_type": "display_data"
    }
   ],
   "source": [
    "#Make correlation table with heatmap\n",
    "import seaborn as sns\n",
    "import matplotlib.pyplot as plt\n",
    "%matplotlib inline\n",
    "corr = df4.corr()\n",
    "sns.heatmap(corr, \n",
    "        xticklabels=corr.columns,\n",
    "        yticklabels=corr.columns)\n",
    "\n",
    "#Make correlation basic table\n",
    "df4.corr()"
   ]
  },
  {
   "cell_type": "code",
   "execution_count": null,
   "metadata": {},
   "outputs": [],
   "source": []
  }
 ],
 "metadata": {
  "kernelspec": {
   "display_name": "Python 3",
   "language": "python",
   "name": "python3"
  },
  "language_info": {
   "codemirror_mode": {
    "name": "ipython",
    "version": 3
   },
   "file_extension": ".py",
   "mimetype": "text/x-python",
   "name": "python",
   "nbconvert_exporter": "python",
   "pygments_lexer": "ipython3",
   "version": "3.7.4"
  }
 },
 "nbformat": 4,
 "nbformat_minor": 2
}
