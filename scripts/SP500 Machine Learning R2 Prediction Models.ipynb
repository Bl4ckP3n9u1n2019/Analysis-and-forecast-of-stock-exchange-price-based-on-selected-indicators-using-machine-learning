{
 "cells": [
  {
   "cell_type": "code",
   "execution_count": 67,
   "metadata": {},
   "outputs": [],
   "source": [
    "import pandas as pd\n",
    "import xgboost as xgb\n",
    "import numpy as np\n",
    "import datetime as dt\n",
    "import datetime\n",
    "import sqlite3\n",
    "import os\n",
    "from xgboost import XGBClassifier\n",
    "from sklearn.model_selection import train_test_split\n",
    "from sklearn.metrics import r2_score"
   ]
  },
  {
   "cell_type": "code",
   "execution_count": 68,
   "metadata": {},
   "outputs": [],
   "source": [
    "#Destination folder (comment unused directory)\n",
    "#1 \n",
    "#os.chdir(\"C:/Users/Lukasz/Documents/GitHub/Analysis-and-forecast-of-stock-exchange-price-based-on-selected-indicators-using-machine-learning/data\")\n",
    "#2\n",
    "os.chdir(\"F:/GitHub/Analysis-and-forecast-of-stock-exchange-price-based-on-selected-indicators-using-machine-learning/data\")\n",
    "\n",
    "# Create your connection.\n",
    "conn = sqlite3.connect('predictions.db')\n",
    "c = conn.cursor()"
   ]
  },
  {
   "cell_type": "code",
   "execution_count": 74,
   "metadata": {},
   "outputs": [
    {
     "data": {
      "text/html": [
       "<div>\n",
       "<style scoped>\n",
       "    .dataframe tbody tr th:only-of-type {\n",
       "        vertical-align: middle;\n",
       "    }\n",
       "\n",
       "    .dataframe tbody tr th {\n",
       "        vertical-align: top;\n",
       "    }\n",
       "\n",
       "    .dataframe thead th {\n",
       "        text-align: right;\n",
       "    }\n",
       "</style>\n",
       "<table border=\"1\" class=\"dataframe\">\n",
       "  <thead>\n",
       "    <tr style=\"text-align: right;\">\n",
       "      <th></th>\n",
       "      <th>Covid19</th>\n",
       "      <th>Crude_Oil</th>\n",
       "      <th>Copper</th>\n",
       "      <th>Silver</th>\n",
       "      <th>Platinum</th>\n",
       "      <th>Industrial_Production</th>\n",
       "      <th>Palladium</th>\n",
       "      <th>SP500</th>\n",
       "    </tr>\n",
       "  </thead>\n",
       "  <tbody>\n",
       "    <tr>\n",
       "      <td>2510</td>\n",
       "      <td>416881.0</td>\n",
       "      <td>24.49</td>\n",
       "      <td>2.2040</td>\n",
       "      <td>13.965</td>\n",
       "      <td>745.50</td>\n",
       "      <td>103.664</td>\n",
       "      <td>2247.6</td>\n",
       "      <td>2475.56</td>\n",
       "    </tr>\n",
       "    <tr>\n",
       "      <td>2511</td>\n",
       "      <td>468092.0</td>\n",
       "      <td>22.60</td>\n",
       "      <td>2.1780</td>\n",
       "      <td>14.415</td>\n",
       "      <td>737.10</td>\n",
       "      <td>103.664</td>\n",
       "      <td>2226.1</td>\n",
       "      <td>2630.07</td>\n",
       "    </tr>\n",
       "    <tr>\n",
       "      <td>2512</td>\n",
       "      <td>527839.0</td>\n",
       "      <td>21.51</td>\n",
       "      <td>2.1720</td>\n",
       "      <td>14.315</td>\n",
       "      <td>740.82</td>\n",
       "      <td>103.664</td>\n",
       "      <td>2196.8</td>\n",
       "      <td>2541.47</td>\n",
       "    </tr>\n",
       "    <tr>\n",
       "      <td>2513</td>\n",
       "      <td>715377.0</td>\n",
       "      <td>20.09</td>\n",
       "      <td>2.1555</td>\n",
       "      <td>14.055</td>\n",
       "      <td>723.84</td>\n",
       "      <td>103.664</td>\n",
       "      <td>2197.6</td>\n",
       "      <td>2626.65</td>\n",
       "    </tr>\n",
       "    <tr>\n",
       "      <td>2514</td>\n",
       "      <td>777187.0</td>\n",
       "      <td>20.48</td>\n",
       "      <td>2.2280</td>\n",
       "      <td>13.930</td>\n",
       "      <td>728.80</td>\n",
       "      <td>103.664</td>\n",
       "      <td>2304.8</td>\n",
       "      <td>2584.59</td>\n",
       "    </tr>\n",
       "  </tbody>\n",
       "</table>\n",
       "</div>"
      ],
      "text/plain": [
       "       Covid19  Crude_Oil  Copper  Silver  Platinum  Industrial_Production  \\\n",
       "2510  416881.0      24.49  2.2040  13.965    745.50                103.664   \n",
       "2511  468092.0      22.60  2.1780  14.415    737.10                103.664   \n",
       "2512  527839.0      21.51  2.1720  14.315    740.82                103.664   \n",
       "2513  715377.0      20.09  2.1555  14.055    723.84                103.664   \n",
       "2514  777187.0      20.48  2.2280  13.930    728.80                103.664   \n",
       "\n",
       "      Palladium    SP500  \n",
       "2510     2247.6  2475.56  \n",
       "2511     2226.1  2630.07  \n",
       "2512     2196.8  2541.47  \n",
       "2513     2197.6  2626.65  \n",
       "2514     2304.8  2584.59  "
      ]
     },
     "execution_count": 74,
     "metadata": {},
     "output_type": "execute_result"
    }
   ],
   "source": [
    "indicator='SP500'\n",
    "#Get SQLLite select statement for SP500 index and indicators\n",
    "df = pd.read_sql_query(\"\"\"select x.\"Date\", c19.\"Index\" Covid19, co.\"Index\" as Crude_Oil, \n",
    "cr.\"Index\" as Copper, s.\"Index\" as Silver, p.\"Index\" as Platinum,\n",
    "ip.\"Index\" as Industrial_Production, pa.\"Index\" as Palladium, x.\"Index\" as \"\"\"+indicator+\"\"\"\n",
    " from \"\"\"+indicator+\"\"\" as x\n",
    "  LEFT OUTER JOIN Covid19 as c19 ON x.Date = C19.Date\n",
    "  LEFT OUTER JOIN Crude_Oil as co ON x.Date=co.Date\n",
    "  LEFT OUTER JOIN Copper as cr ON x.Date=cr.Date\n",
    "  LEFT OUTER JOIN Silver as s ON x.Date=s.Date\n",
    "  LEFT OUTER JOIN Platinum as p ON x.Date=p.Date\n",
    "  LEFT OUTER JOIN Industrial_Prod as ip ON strftime('%Y-%m', x.Date)=strftime('%Y-%m', ip.Date)\n",
    "  LEFT OUTER JOIN Palladium as pa ON x.Date=pa.Date\n",
    "Where x.\"Index\" and co.\"Index\" and cr.\"Index\" and s.\"Index\" and p.\"Index\"\n",
    "and ip.\"Index\" and pa.\"Index\" IS NOT NULL\n",
    "and x.Date < '2020-04-01'\n",
    "\"\"\", conn)\n",
    "\n",
    "#Delete date column\n",
    "df = df.drop(columns=['Date'])\n",
    "\n",
    "df.tail()"
   ]
  },
  {
   "cell_type": "code",
   "execution_count": 75,
   "metadata": {},
   "outputs": [],
   "source": [
    "# fillling with zeros NaN values\n",
    "df=df.fillna(0)"
   ]
  },
  {
   "cell_type": "code",
   "execution_count": 76,
   "metadata": {},
   "outputs": [],
   "source": [
    "# splitting data into features X, and labels y\n",
    "X = df.drop(['SP500'], axis=1)\n",
    "y = df['SP500']"
   ]
  },
  {
   "cell_type": "code",
   "execution_count": 87,
   "metadata": {},
   "outputs": [],
   "source": [
    "# splitting data into train and test data\n",
    "seed = 60\n",
    "test_size = 0.2\n",
    "X_train, X_test, y_train, y_test = train_test_split(X,y,test_size=test_size, \n",
    "                                                    random_state=seed)"
   ]
  },
  {
   "cell_type": "code",
   "execution_count": 88,
   "metadata": {},
   "outputs": [
    {
     "data": {
      "text/plain": [
       "array([[-8.75283560e-02,  9.04767490e-01,  1.33607245e+00, ...,\n",
       "         1.20444130e+00, -6.36275462e-01, -4.96131305e-01],\n",
       "       [-8.75283560e-02,  2.99062291e-04, -1.50380154e-01, ...,\n",
       "         8.35633421e-01, -1.73600011e+00, -1.16058235e+00],\n",
       "       [-8.75283560e-02, -8.21903872e-01, -9.14765922e-01, ...,\n",
       "        -8.09001216e-01,  4.32150876e-02, -3.10062165e-01],\n",
       "       ...,\n",
       "       [-8.75283560e-02, -5.20866404e-01, -4.47494345e-01, ...,\n",
       "        -9.97496286e-01,  1.47031880e+00,  2.74786921e+00],\n",
       "       [-8.75283560e-02, -1.17718232e+00, -1.21452505e+00, ...,\n",
       "        -6.92025176e-01,  1.21534401e-01, -4.53148334e-01],\n",
       "       [-8.75283560e-02, -6.85397392e-01, -2.73810382e-01, ...,\n",
       "        -1.29145162e+00,  1.48463757e+00,  1.81423909e+00]])"
      ]
     },
     "execution_count": 88,
     "metadata": {},
     "output_type": "execute_result"
    }
   ],
   "source": [
    "from sklearn.preprocessing   import StandardScaler\n",
    "\n",
    "# scaling values\n",
    "sc = StandardScaler()\n",
    "X_train = sc.fit_transform(X_train)\n",
    "X_test = sc.transform(X_test)\n",
    "X_train"
   ]
  },
  {
   "cell_type": "markdown",
   "metadata": {},
   "source": [
    "## Linear Regression"
   ]
  },
  {
   "cell_type": "code",
   "execution_count": 89,
   "metadata": {},
   "outputs": [],
   "source": [
    "from sklearn.linear_model import LinearRegression\n",
    "\n",
    "# Linear regression\n",
    "lr = LinearRegression()\n",
    "lr.fit(X_train , y_train)\n",
    "y_pred = lr.predict(X_test)\n",
    "r2 = r2_score(y_test, y_pred)"
   ]
  },
  {
   "cell_type": "code",
   "execution_count": 90,
   "metadata": {},
   "outputs": [
    {
     "name": "stdout",
     "output_type": "stream",
     "text": [
      "Linear Regression R2: 0.96\n"
     ]
    }
   ],
   "source": [
    "print('Linear Regression R2: {0:.2f}'.format(r2))"
   ]
  },
  {
   "cell_type": "code",
   "execution_count": 91,
   "metadata": {},
   "outputs": [
    {
     "name": "stdout",
     "output_type": "stream",
     "text": [
      "[1492.17266382 2020.75051163 1823.69675767 1380.84937135 1250.61247907\n",
      " 1987.30950111 1244.3345383  2715.53683188 1355.66093792 1277.42702976\n",
      " 1523.44885888 3024.6169592  2140.59549765 1844.67560825 1890.20369852\n",
      " 2912.09902332 1342.32753248 2971.65211343 1545.37631989 2761.33939609\n",
      " 2142.54206531 1128.5835948  2090.41075003 2555.82240382 1485.88577043\n",
      " 1527.64995987 1447.19059192 1776.34715416 1416.70979631 1220.47533781\n",
      " 1244.74116813 2036.57963687 2967.78870679 1801.16647099 3076.60115489\n",
      " 2126.43990639 2189.33250524 2520.62621122 2117.05646054 2240.90411666\n",
      " 2136.28559488 2913.0705862  3011.26377017 2118.70567576 1942.66601251\n",
      " 3225.9854384  2995.84568104 3009.19304158 1975.4436193  1079.63517737\n",
      " 1419.28629885 2782.68569346 1943.07711083 1608.50213828 2131.47578893\n",
      " 1402.94834125 1132.75992227 1935.2949923  1482.35856603 2380.81139999\n",
      " 1546.85196486 2511.88943831 1621.45256579 2909.52964685 3226.77768599\n",
      " 1056.0941732  1267.36311053 1469.3921951  2675.68990626 2111.84504385\n",
      " 1178.81277298 1974.10827657 1252.93321036 1169.19706208 1841.66727099\n",
      " 2034.98652945 1782.37004557 2499.74871663 1220.80645368 2777.58866949\n",
      " 2573.65203129 2220.91001911 1689.36898041 1764.87571645 2001.01921284\n",
      " 2104.83816143 1134.45808913 1559.96551561 2072.01762058 1858.71520409\n",
      " 2102.7430204  2137.67967783 2905.34019738 2107.5205578  2096.31829796\n",
      " 1159.89680317 1580.12163582 2224.81411093 1382.03235476 1200.47137192\n",
      " 1427.8912429  1246.79812584 1792.281083   1123.67670357 1252.68908145\n",
      " 1774.85536039 2064.58464167 1825.36307196 3044.12144896 1585.09280776\n",
      " 1956.50801196 3211.47480268 1888.19700198 2336.30025066 2910.08002911\n",
      " 1188.65787315 1501.00377141 2341.17106321 2946.68269072 2578.920748\n",
      " 1257.26831075 2046.48513206 2856.19620313 2105.23714866 1184.61627687\n",
      " 2146.53564082 1678.87507015 1774.25329713 1695.1822343  2178.2365981\n",
      " 1115.06691598 2156.26969284 1557.03298515 2111.35464139 1227.34445405\n",
      " 1730.39288742 1094.98965675 1198.71466877 2143.53052163 1102.44914162\n",
      " 2287.41920795 2135.30598203 1638.90079751 2914.06258483 1269.50269037\n",
      " 1128.64397457 1288.71101795 2775.86348413 1987.36524755 2151.04347423\n",
      " 2522.64089867 1109.6286672  1895.41761339 1208.55840353 1764.1448901\n",
      " 2203.11273132 1655.37258493 1090.6682933  1199.07031947 1971.31007554\n",
      " 2273.82994471 3102.42795111 1845.00534018 1198.3383715  1857.75312545\n",
      " 1309.44391543 1324.10344168 1904.21770164 1821.35067932 2804.46862247\n",
      " 2564.69569093 2140.40881688 3015.13176763 1537.74264474 1902.14843642\n",
      " 1393.124688   2499.48152153 3175.10926798 1334.55197212 1267.67293374\n",
      " 2910.9748462  2705.50865102 2388.00938245 2549.61321977 1685.72365822\n",
      " 1386.05288446 2245.09950637 1038.43036077 1243.09223005 1771.74390813\n",
      " 2593.55224493 2109.51028989 2605.20389962 2593.97010695 2328.59487074\n",
      " 3340.06275467 2391.31543779 2779.41960396 1873.83707162 1429.80264196\n",
      " 2578.63593805 1667.63106724 1161.29775703 1422.16492863 1957.62374075\n",
      " 2921.99222148 1646.01836846 1346.86201872 2983.38380185 2756.0578314\n",
      " 1760.21521639 3145.99973676 1980.64907386 2044.62191955 1237.47673633\n",
      " 2536.88272345 1814.02160613 2100.20484628 2112.47705267 1696.0733786\n",
      " 2212.15232041 2025.61054723 1161.20474567 2799.72965458 3078.2636123\n",
      " 2790.3508422  2557.06932902 2151.78426459 2192.85221264 1840.06935811\n",
      " 2693.86985    2945.38306186 1279.87116364 2808.80658571 2195.81953503\n",
      " 2361.5015955  1901.34464588 1557.8501715  2788.70056862 2515.20687679\n",
      " 3083.09079608 2535.55888345 2946.22681011 1087.3416408  2571.17683188\n",
      " 2060.09570868 2555.66048314 1989.1763703  2142.65659569 2282.57873516\n",
      " 2893.52886127 1039.11596236 2988.92453758 2139.70512827 2125.40089032\n",
      " 1064.43844108 2021.24047762 3004.68274132 1925.24178199 2158.56539912\n",
      " 2100.04345281 2088.84595279 2171.52114196 1567.61083773 2079.08378066\n",
      " 2911.55240385 1212.88684193 2063.4602233  1472.0007779  2104.13067053\n",
      " 1103.0468687  3000.98190056 1354.82871379 2193.46009761 2551.81551926\n",
      " 3025.33821356 2247.20903176 2084.57037872 2883.79638135 1359.57828074\n",
      " 1916.13676301 1726.3662082  1329.41802292 2099.31614709 1411.24949025\n",
      " 2541.88533416 2011.72329942 1072.15844129 1561.52821043 2500.64661437\n",
      " 1272.38100396 1992.35203322 1976.17598573 1869.63881618 1330.00551961\n",
      " 2117.98988866 1957.98676809 1884.16746419 2107.77843354 1508.74329467\n",
      " 1464.48330277 1244.25745975 2863.16353742 1673.60948896 1111.40572577\n",
      " 1321.99290021 1558.74940552 1961.32036876 2566.28692716 2014.40616063\n",
      " 1561.04033067 1095.73035622 1220.83194463 1242.58728464 1438.78797392\n",
      " 1736.58991627 2023.11546526 2166.8566366  1567.93285758 3036.09179196\n",
      " 2115.86497357 1451.42907572 2162.80515959 3018.3743416  1696.8271512\n",
      " 2276.9237989  2947.53296823 2168.15052717 1568.58074729 2181.69737124\n",
      " 1099.09161081 1769.32491677 1214.0921865  3010.00788981 1361.62807159\n",
      " 1219.04088706 2007.08245789 2140.6481368  2128.03723057 2060.46730483\n",
      " 2540.4971608  2044.09350729 1961.89829601 2919.51587184 2122.23609809\n",
      " 2072.54625129 1225.68814543 2929.43910074 2271.53428431 1155.69035869\n",
      " 2102.90139097 3066.56299786 1108.8010648  1563.40424596 2376.99164646\n",
      " 2935.59630737 1443.61218771 2747.05460785 2315.71385978 2167.48714062\n",
      " 1606.79918668 1886.01879789 1790.22753943 1733.42307974 2147.2641034\n",
      " 1184.82349291 1270.74059338 2024.39819244 2582.15902041 2011.3570407\n",
      " 2789.68143898 1308.41420659 1128.68428766 1828.04550774 2128.72317053\n",
      " 1222.03827954 2246.27388309 1660.44927761 1440.00790693 2082.82385459\n",
      " 1172.54702859 1416.94929488 2236.84853237 1517.70318714 2094.08855279\n",
      " 1087.55078622 3297.249054   1303.16597478 2321.58393247 1281.70464295\n",
      " 1277.44891696 2070.7781284  1583.42246458 2646.83713035 1956.39348514\n",
      " 1664.23417356 2618.0450586  1468.56460542 1758.59312086 1637.86783023\n",
      " 3227.97276084 2194.19284389 2896.25411145 1929.54099013 3016.5624409\n",
      " 2176.66205715 1094.85367721 2508.50348973 2148.66246918 2929.74497001\n",
      " 1638.30969228 1917.78064359 1683.78860584 3183.5071338  2136.09428775\n",
      " 1184.56025412 2373.53383051 2015.13334555 2487.40454921 1351.86003744\n",
      " 1947.0792721  1212.47944084 2074.94535906 2693.23338553 2879.47143615\n",
      " 1668.42974316 1183.67519126 1256.14908945 1192.63570778 2118.96536412\n",
      " 2352.11862183 2800.82183309 1801.86765942 2560.95390031 1961.36503521\n",
      " 1736.73896622 2652.8995307  1634.80290548 2106.60868024 2333.34957506\n",
      " 1224.79678808 1641.05628321 1587.67644174 1324.84412835 1164.74285108\n",
      " 2145.80792929 2663.66748542 2628.7507514  1263.8073112  2890.0744257\n",
      " 2016.44934983 2230.52153984 1939.29957163 2602.61064033 2986.27027228\n",
      " 1564.68519406 1538.62702323 2364.44256746 3121.95608236 2381.40243574\n",
      " 1843.02860176 2844.49348676 1759.96500891 1722.72665672 1517.86727909\n",
      " 1199.838438   3289.02608493 2935.80587865 2276.7106441  2023.96082091\n",
      " 2901.59402785 2074.84205687 2092.37324776 1750.12267909 1248.88610961\n",
      " 3007.68820579 3090.9528111  1413.75765475 2342.4444468  2159.16108537\n",
      " 3124.20952677 1347.720858   1331.69255851 2274.93666348 1732.22692571\n",
      " 2138.57983106 1459.5935816  3136.66828466 2384.25403674 2539.79367431\n",
      " 1977.94199508 1411.08807779 1852.92398413 2879.76103368 1510.05177693\n",
      " 2187.64497611 1361.57136466 2914.85987282 1210.5504525  2908.49404392\n",
      " 1661.74187092 1768.22683255 1190.48193386]\n"
     ]
    }
   ],
   "source": [
    "print(y_pred)"
   ]
  },
  {
   "cell_type": "code",
   "execution_count": 96,
   "metadata": {},
   "outputs": [
    {
     "data": {
      "text/html": [
       "<div>\n",
       "<style scoped>\n",
       "    .dataframe tbody tr th:only-of-type {\n",
       "        vertical-align: middle;\n",
       "    }\n",
       "\n",
       "    .dataframe tbody tr th {\n",
       "        vertical-align: top;\n",
       "    }\n",
       "\n",
       "    .dataframe thead th {\n",
       "        text-align: right;\n",
       "    }\n",
       "</style>\n",
       "<table border=\"1\" class=\"dataframe\">\n",
       "  <thead>\n",
       "    <tr style=\"text-align: right;\">\n",
       "      <th></th>\n",
       "      <th>SP500</th>\n",
       "      <th>0</th>\n",
       "    </tr>\n",
       "  </thead>\n",
       "  <tbody>\n",
       "    <tr>\n",
       "      <td>0</td>\n",
       "      <td>1132.99</td>\n",
       "      <td>1492.172664</td>\n",
       "    </tr>\n",
       "    <tr>\n",
       "      <td>1</td>\n",
       "      <td>1137.14</td>\n",
       "      <td>2020.750512</td>\n",
       "    </tr>\n",
       "    <tr>\n",
       "      <td>2</td>\n",
       "      <td>1141.69</td>\n",
       "      <td>1823.696758</td>\n",
       "    </tr>\n",
       "    <tr>\n",
       "      <td>3</td>\n",
       "      <td>1144.98</td>\n",
       "      <td>1380.849371</td>\n",
       "    </tr>\n",
       "    <tr>\n",
       "      <td>4</td>\n",
       "      <td>1146.98</td>\n",
       "      <td>1250.612479</td>\n",
       "    </tr>\n",
       "  </tbody>\n",
       "</table>\n",
       "</div>"
      ],
      "text/plain": [
       "     SP500            0\n",
       "0  1132.99  1492.172664\n",
       "1  1137.14  2020.750512\n",
       "2  1141.69  1823.696758\n",
       "3  1144.98  1380.849371\n",
       "4  1146.98  1250.612479"
      ]
     },
     "execution_count": 96,
     "metadata": {},
     "output_type": "execute_result"
    }
   ],
   "source": [
    "#df1 = df['SP500']\n",
    "#y_pred1 = pd.DataFrame(y_pred)\n",
    "\n",
    "#result = pd.concat([df1, y_pred1], axis=1, sort=False)\n",
    "#result.head()"
   ]
  },
  {
   "cell_type": "code",
   "execution_count": 93,
   "metadata": {},
   "outputs": [
    {
     "data": {
      "text/html": [
       "<div>\n",
       "<style scoped>\n",
       "    .dataframe tbody tr th:only-of-type {\n",
       "        vertical-align: middle;\n",
       "    }\n",
       "\n",
       "    .dataframe tbody tr th {\n",
       "        vertical-align: top;\n",
       "    }\n",
       "\n",
       "    .dataframe thead th {\n",
       "        text-align: right;\n",
       "    }\n",
       "</style>\n",
       "<table border=\"1\" class=\"dataframe\">\n",
       "  <thead>\n",
       "    <tr style=\"text-align: right;\">\n",
       "      <th></th>\n",
       "      <th>SP500</th>\n",
       "      <th>0</th>\n",
       "    </tr>\n",
       "  </thead>\n",
       "  <tbody>\n",
       "    <tr>\n",
       "      <td>count</td>\n",
       "      <td>2515.000000</td>\n",
       "      <td>503.000000</td>\n",
       "    </tr>\n",
       "    <tr>\n",
       "      <td>mean</td>\n",
       "      <td>1991.153865</td>\n",
       "      <td>1999.040148</td>\n",
       "    </tr>\n",
       "    <tr>\n",
       "      <td>std</td>\n",
       "      <td>607.565787</td>\n",
       "      <td>597.035775</td>\n",
       "    </tr>\n",
       "    <tr>\n",
       "      <td>min</td>\n",
       "      <td>1022.580000</td>\n",
       "      <td>1038.430361</td>\n",
       "    </tr>\n",
       "    <tr>\n",
       "      <td>25%</td>\n",
       "      <td>1399.730000</td>\n",
       "      <td>1484.122168</td>\n",
       "    </tr>\n",
       "    <tr>\n",
       "      <td>50%</td>\n",
       "      <td>2000.720000</td>\n",
       "      <td>2007.082458</td>\n",
       "    </tr>\n",
       "    <tr>\n",
       "      <td>75%</td>\n",
       "      <td>2474.470000</td>\n",
       "      <td>2382.828236</td>\n",
       "    </tr>\n",
       "    <tr>\n",
       "      <td>max</td>\n",
       "      <td>3386.150000</td>\n",
       "      <td>3340.062755</td>\n",
       "    </tr>\n",
       "  </tbody>\n",
       "</table>\n",
       "</div>"
      ],
      "text/plain": [
       "             SP500            0\n",
       "count  2515.000000   503.000000\n",
       "mean   1991.153865  1999.040148\n",
       "std     607.565787   597.035775\n",
       "min    1022.580000  1038.430361\n",
       "25%    1399.730000  1484.122168\n",
       "50%    2000.720000  2007.082458\n",
       "75%    2474.470000  2382.828236\n",
       "max    3386.150000  3340.062755"
      ]
     },
     "execution_count": 93,
     "metadata": {},
     "output_type": "execute_result"
    }
   ],
   "source": [
    "result.describe()"
   ]
  },
  {
   "cell_type": "code",
   "execution_count": 94,
   "metadata": {},
   "outputs": [
    {
     "data": {
      "text/plain": [
       "<matplotlib.axes._subplots.AxesSubplot at 0x1b70dffca88>"
      ]
     },
     "execution_count": 94,
     "metadata": {},
     "output_type": "execute_result"
    },
    {
     "data": {
      "image/png": "[encoded data removed]",
      "text/plain": [
       "<Figure size 1080x720 with 1 Axes>"
      ]
     },
     "metadata": {},
     "output_type": "display_data"
    }
   ],
   "source": [
    "#import matplotlib.pyplot as plt\n",
    "#%matplotlib inline\n",
    "\n",
    "#plt.style.use('fivethirtyeight')\n",
    "#result.plot(title=(\"Linear\"), figsize=(15,10), grid=True, fontsize=16)"
   ]
  },
  {
   "cell_type": "markdown",
   "metadata": {},
   "source": [
    "## XGBOOST"
   ]
  },
  {
   "cell_type": "code",
   "execution_count": 15,
   "metadata": {},
   "outputs": [
    {
     "data": {
      "text/plain": [
       "XGBClassifier(base_score=0.5, booster='gbtree', colsample_bylevel=1,\n",
       "              colsample_bynode=1, colsample_bytree=1, gamma=0,\n",
       "              learning_rate=0.1, max_delta_step=0, max_depth=3,\n",
       "              min_child_weight=1, missing=None, n_estimators=100, n_jobs=1,\n",
       "              nthread=None, objective='multi:softprob', random_state=0,\n",
       "              reg_alpha=0, reg_lambda=1, scale_pos_weight=1, seed=None,\n",
       "              silent=None, subsample=1, verbosity=1)"
      ]
     },
     "execution_count": 15,
     "metadata": {},
     "output_type": "execute_result"
    }
   ],
   "source": [
    "# fit model no training data\n",
    "model = XGBClassifier()\n",
    "model.fit(X_train, y_train)"
   ]
  },
  {
   "cell_type": "code",
   "execution_count": 16,
   "metadata": {},
   "outputs": [],
   "source": [
    "# make predictions for test data\n",
    "y_pred = model.predict(X_test)\n",
    "predictions = [round(value) for value in y_pred]"
   ]
  },
  {
   "cell_type": "code",
   "execution_count": 17,
   "metadata": {},
   "outputs": [
    {
     "name": "stdout",
     "output_type": "stream",
     "text": [
      "[2783.0, 2599.0, 1111.0, 1125.0, 1859.0, 2723.0, 2093.0, 1320.0, 2080.0, 2664.0, 2104.0, 2783.0, 2926.0, 1272.0, 1960.0, 2102.0, 1296.0, 2721.0, 2783.0, 2102.0, 1182.0, 1320.0, 2926.0, 2080.0, 2103.0, 2926.0, 1182.0, 2040.0, 1178.0, 1193.0, 1119.0, 2439.0, 1087.0, 2439.0, 2019.0, 1403.0, 1402.0, 2328.0, 1910.0, 2430.0, 2182.0, 1116.0, 2723.0, 2382.0, 2092.0, 2415.0, 1418.0, 2639.0, 1272.0, 1988.0, 1615.0, 2926.0, 1178.0, 2439.0, 1178.0, 1681.0, 2063.0, 2349.0, 1880.0, 1178.0, 2171.0, 2430.0, 1272.0, 2416.0, 2926.0, 2102.0, 1982.0, 2663.0, 2723.0, 2840.0, 1296.0, 2588.0, 1995.0, 2723.0, 2075.0, 2102.0, 2351.0, 1272.0, 2102.0, 1272.0, 1401.0, 1163.0, 1960.0, 2275.0, 2092.0, 2700.0, 1722.0, 1335.0, 2126.0, 2415.0, 1272.0, 2102.0, 2723.0, 1768.0, 2723.0, 2102.0, 2416.0, 2926.0, 1345.0, 2783.0, 1320.0, 1154.0, 2439.0, 1401.0, 2926.0, 1272.0, 2783.0, 2783.0, 2102.0, 1154.0, 1629.0, 2165.0, 2926.0, 2101.0, 1927.0, 2127.0, 2293.0, 1795.0, 1090.0, 2416.0, 1272.0, 1356.0, 2926.0, 2072.0, 1139.0, 1104.0, 1868.0, 2731.0, 1345.0, 2026.0, 1944.0, 1182.0, 1798.0, 2080.0, 2072.0, 2639.0, 1074.0, 2439.0, 1689.0, 2926.0, 2552.0, 2072.0, 3386.0, 1193.0, 1296.0, 1402.0, 2072.0, 2067.0, 1320.0, 2178.0, 2783.0, 2416.0, 2722.0, 2102.0, 2192.0, 1154.0, 2037.0, 2591.0, 1209.0, 1173.0, 2172.0, 1182.0, 1379.0, 1772.0, 1114.0, 2385.0, 2430.0, 2783.0, 2926.0, 1773.0, 1875.0, 2416.0, 2783.0, 1177.0, 2648.0, 1983.0, 2097.0, 1177.0, 1971.0, 1978.0, 2415.0, 1497.0, 2439.0, 1403.0, 1272.0, 1272.0, 2102.0, 2072.0, 2783.0, 2723.0, 1272.0, 2097.0, 2926.0, 2783.0, 1168.0, 1960.0, 1095.0, 1131.0, 2926.0, 1254.0, 2723.0, 1182.0, 1345.0, 1220.0, 2783.0, 2439.0, 1879.0, 1685.0, 1182.0, 2501.0, 2664.0, 1173.0, 1403.0, 2205.0, 2102.0, 1320.0, 1343.0, 2824.0, 2047.0, 2723.0, 2172.0, 1178.0, 1672.0, 1598.0, 1166.0, 2342.0, 2838.0, 1089.0, 1272.0, 2926.0, 1640.0, 2926.0, 1178.0, 2926.0, 2723.0, 2139.0, 1636.0, 2126.0, 1137.0, 2126.0, 1722.0, 1680.0, 1298.0, 1848.0, 2723.0, 2902.0, 1321.0, 2203.0, 1272.0, 1859.0, 2072.0, 2080.0, 1272.0, 1116.0, 2926.0, 1345.0, 2439.0, 2723.0, 1272.0, 1150.0, 1178.0, 1154.0, 1296.0, 2102.0, 1403.0, 2102.0, 1988.0, 1296.0, 2182.0, 1272.0, 2747.0, 1131.0, 1320.0, 1296.0, 2102.0, 1656.0, 2126.0, 2723.0, 1402.0, 2072.0, 1116.0, 2140.0, 2561.0, 2102.0, 2783.0, 2126.0, 1296.0, 2723.0, 1692.0, 3283.0, 2645.0, 1640.0, 1154.0, 1077.0, 2730.0, 2203.0, 1119.0, 1828.0, 2723.0, 2723.0, 1272.0, 1320.0, 2102.0, 2102.0, 1403.0, 2926.0, 2072.0, 2439.0, 1182.0, 2102.0, 1757.0, 1320.0, 1165.0, 2926.0, 2059.0, 2102.0, 2723.0, 2926.0, 1927.0, 2102.0, 1092.0, 2102.0, 2926.0, 1955.0, 2203.0, 1910.0, 1960.0, 2783.0, 2133.0, 1150.0, 1090.0, 1272.0, 2926.0, 1868.0, 1733.0, 1272.0, 2439.0, 1150.0, 1320.0, 1669.0, 1272.0, 1320.0, 2040.0, 1889.0, 1154.0, 2082.0, 2926.0, 2192.0, 2783.0, 1310.0, 2926.0, 1873.0, 2501.0, 2783.0, 2203.0, 2102.0, 1866.0, 2723.0, 2468.0, 2639.0, 2102.0, 1876.0, 2926.0, 2080.0, 2019.0, 1403.0, 2102.0, 1272.0, 1095.0, 2102.0, 1884.0, 1859.0, 1946.0, 2743.0, 1296.0, 1872.0, 2723.0, 1872.0, 2102.0, 1272.0, 1669.0, 1651.0, 2857.0, 2723.0, 2080.0, 1272.0, 2064.0, 1969.0, 1182.0, 1168.0, 2783.0, 1910.0, 2030.0, 2102.0, 2926.0, 2072.0, 1321.0, 1320.0, 2093.0, 2783.0, 1125.0, 1104.0, 2080.0, 3223.0, 2102.0, 1858.0, 2351.0, 2926.0, 1828.0, 2783.0, 2926.0, 2926.0, 1876.0, 2172.0, 2102.0, 1403.0, 1056.0, 2561.0, 3283.0, 2857.0, 1173.0, 2783.0, 3386.0, 2926.0, 2062.0, 2730.0, 2926.0, 1298.0, 2439.0, 1696.0, 1345.0, 1272.0, 2102.0, 2723.0, 1315.0, 1320.0, 1315.0, 2926.0, 1136.0, 2723.0, 2926.0, 2926.0, 1272.0, 1646.0, 1154.0, 1084.0, 2747.0, 1403.0, 1178.0, 2053.0, 2783.0, 2926.0, 2840.0, 2080.0, 2926.0, 2649.0, 1689.0, 1613.0, 2102.0, 1646.0, 2840.0, 2439.0, 2126.0, 2102.0, 1182.0, 1552.0, 1193.0, 1343.0, 2133.0, 2670.0, 1320.0, 1321.0, 1092.0, 2053.0, 2783.0, 2439.0, 2037.0, 2783.0, 1682.0, 2787.0, 2205.0, 2926.0, 2723.0, 1272.0, 1272.0, 1320.0, 2723.0, 2089.0, 2723.0, 2723.0, 1102.0, 1950.0, 2439.0, 2857.0, 1178.0, 1156.0, 2205.0, 1272.0, 1827.0, 1166.0, 2072.0, 1102.0, 2723.0, 1868.0, 1403.0, 1272.0, 1154.0, 1272.0, 2723.0, 2115.0, 2458.0, 2439.0, 2783.0, 2998.0, 2926.0, 1182.0, 2786.0, 2926.0, 1060.0, 2926.0, 2439.0, 2081.0, 2639.0, 2663.0, 2926.0, 2080.0, 2750.0, 2102.0, 2926.0, 1796.0, 2926.0, 1071.0, 1272.0, 1156.0, 2126.0, 1402.0, 1125.0, 2783.0, 1683.0, 2723.0, 2385.0, 2723.0, 1657.0, 1655.0, 2926.0, 2080.0, 2102.0, 2926.0, 2089.0, 2926.0, 1497.0, 2723.0, 2723.0, 2439.0, 2439.0, 2160.0, 2857.0, 2439.0, 1951.0, 1403.0, 1320.0, 1320.0, 2783.0, 2926.0, 2561.0, 2926.0, 2683.0, 2468.0, 1497.0, 1272.0, 1541.0, 1296.0, 1178.0, 2657.0, 2072.0, 2072.0, 2080.0, 1763.0, 1272.0, 2439.0, 1254.0, 1403.0, 1403.0, 1672.0, 2501.0, 1403.0, 2102.0, 2783.0, 1651.0, 2069.0, 1988.0, 2664.0, 2926.0, 2072.0, 1594.0, 1897.0, 1050.0, 1182.0, 1541.0, 2902.0, 1541.0, 1829.0, 2426.0, 1998.0, 2385.0, 1988.0, 1178.0, 2723.0, 2833.0, 1272.0, 1629.0, 1830.0, 1848.0, 2101.0, 2783.0, 1173.0, 2926.0, 2776.0, 1640.0, 2840.0, 3330.0, 1296.0, 1254.0, 2926.0, 2926.0, 1983.0, 2082.0, 1182.0, 1182.0, 1401.0, 2552.0, 1095.0, 2102.0, 2723.0, 2599.0, 1785.0, 1070.0, 1272.0, 1697.0, 3283.0, 1403.0, 2052.0, 2047.0, 1070.0, 2146.0, 2127.0, 1988.0, 1345.0, 1403.0, 2497.0, 2126.0, 1672.0, 1296.0, 1320.0, 1296.0, 1876.0, 1272.0, 1345.0, 2040.0, 1095.0, 1320.0, 2364.0, 1193.0, 1935.0, 2439.0, 1868.0, 1655.0, 1182.0, 1988.0, 2565.0, 2783.0, 1319.0, 2670.0, 2415.0, 2723.0, 1272.0, 2126.0, 2824.0, 1598.0, 1808.0, 1401.0, 2102.0, 2040.0, 1272.0, 1165.0, 1178.0, 2102.0, 2501.0, 2723.0, 2160.0, 2102.0, 2731.0, 2783.0, 2102.0, 2468.0, 1272.0, 2926.0, 1403.0, 1988.0, 2926.0, 2926.0, 2342.0, 1859.0, 2723.0, 1154.0, 1182.0, 2683.0, 2126.0, 1588.0, 1090.0, 1320.0, 1692.0, 2783.0, 1272.0, 1272.0, 2102.0, 2102.0, 1403.0, 2126.0, 1696.0, 3386.0, 2364.0, 2649.0, 2926.0, 2416.0, 2723.0, 2178.0, 1296.0, 1829.0, 2126.0, 2439.0, 1897.0, 2102.0, 3237.0, 2365.0, 2102.0, 2439.0, 2649.0, 2926.0, 1773.0, 1324.0, 2109.0, 1272.0, 2579.0, 3386.0, 2783.0, 2744.0, 1150.0, 1296.0, 1403.0, 2926.0, 2439.0, 2071.0, 1315.0, 2080.0, 1988.0, 2783.0, 2047.0, 1972.0, 1904.0, 2021.0, 1702.0, 2439.0, 2926.0, 2926.0, 2102.0, 2415.0, 2926.0, 1955.0, 1402.0, 2072.0, 2102.0, 2102.0, 1165.0, 2102.0, 2037.0, 2053.0, 1139.0, 1640.0, 2102.0, 2102.0, 2080.0, 1884.0, 2723.0, 2926.0, 2926.0, 1298.0, 2926.0, 2186.0, 1272.0, 1272.0, 1031.0, 1345.0, 2415.0, 2579.0, 2072.0, 1403.0, 1315.0, 1107.0, 2926.0, 1298.0, 1272.0, 2723.0, 2723.0, 1655.0, 2783.0, 1988.0, 2031.0, 1320.0, 1320.0, 1321.0, 1194.0, 1984.0, 2926.0, 1669.0, 2072.0, 1710.0, 2342.0, 1995.0, 1345.0, 2102.0, 1178.0, 1868.0, 2926.0, 1272.0, 2645.0, 1873.0, 1095.0, 2123.0, 2783.0]\n"
     ]
    }
   ],
   "source": [
    "print(predictions)"
   ]
  },
  {
   "cell_type": "code",
   "execution_count": 18,
   "metadata": {},
   "outputs": [
    {
     "name": "stdout",
     "output_type": "stream",
     "text": [
      "r2: 94.10%\n"
     ]
    }
   ],
   "source": [
    "# evaluate predictions\n",
    "#accuracy_score(y_true, y_pred.round(), normalize=False)\n",
    "r2 = r2_score(y_test, predictions)\n",
    "print(\"r2: %.2f%%\" % (r2 * 100.0))"
   ]
  },
  {
   "cell_type": "code",
   "execution_count": null,
   "metadata": {},
   "outputs": [],
   "source": []
  }
 ],
 "metadata": {
  "kernelspec": {
   "display_name": "Python 3",
   "language": "python",
   "name": "python3"
  },
  "language_info": {
   "codemirror_mode": {
    "name": "ipython",
    "version": 3
   },
   "file_extension": ".py",
   "mimetype": "text/x-python",
   "name": "python",
   "nbconvert_exporter": "python",
   "pygments_lexer": "ipython3",
   "version": "3.7.4"
  }
 },
 "nbformat": 4,
 "nbformat_minor": 2
}
