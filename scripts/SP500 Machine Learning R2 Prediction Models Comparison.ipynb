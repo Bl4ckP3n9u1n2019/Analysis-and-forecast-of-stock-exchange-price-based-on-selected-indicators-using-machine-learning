{
 "cells": [
  {
   "cell_type": "code",
   "execution_count": 75,
   "metadata": {},
   "outputs": [],
   "source": [
    "import pandas as pd\n",
    "import numpy as np\n",
    "import matplotlib.pyplot as plt\n",
    "import seaborn as sns\n",
    "import datetime as dt\n",
    "import datetime\n",
    "import sqlite3\n",
    "import os\n",
    "\n",
    "# import xgboost\n",
    "import xgboost as xgb\n",
    "from xgboost import XGBClassifier\n",
    "\n",
    "# Loading modelling algorithms\n",
    "# Załadowanie algorytmów modeli\n",
    "from sklearn.linear_model import LinearRegression\n",
    "from sklearn.linear_model import Lasso\n",
    "from sklearn.linear_model import Ridge\n",
    "from sklearn.neighbors    import KNeighborsRegressor\n",
    "from sklearn.ensemble     import AdaBoostRegressor\n",
    "from sklearn.ensemble     import RandomForestRegressor\n",
    "\n",
    "# Loading tools\n",
    "# Załadownie narzędzi\n",
    "from sklearn.model_selection import train_test_split\n",
    "from sklearn.preprocessing   import StandardScaler\n",
    "from sklearn.metrics         import r2_score\n",
    "\n",
    "# Ignore warning messages\n",
    "# Ignorowanie ostrzeżeń\n",
    "import warnings\n",
    "warnings.filterwarnings('ignore')"
   ]
  },
  {
   "cell_type": "code",
   "execution_count": 76,
   "metadata": {},
   "outputs": [],
   "source": [
    "# Destination folder (comment unused directory)\n",
    "# Wybranie folderu docelowego\n",
    "#1 \n",
    "#os.chdir(\"C:/Users/Lukasz/Documents/GitHub/Analysis-and-forecast-of-stock-exchange-price-based-on-selected-indicators-using-machine-learning/data\")\n",
    "#2\n",
    "os.chdir(\"F:/GitHub/Analysis-and-forecast-of-stock-exchange-price-based-on-selected-indicators-using-machine-learning/data\")\n",
    "\n",
    "# Creating a connection\n",
    "# Stworzenie połączenia za pomocą sqlite3\n",
    "conn = sqlite3.connect('predictions.db')\n",
    "c = conn.cursor()"
   ]
  },
  {
   "cell_type": "code",
   "execution_count": 77,
   "metadata": {},
   "outputs": [
    {
     "data": {
      "text/html": [
       "<div>\n",
       "<style scoped>\n",
       "    .dataframe tbody tr th:only-of-type {\n",
       "        vertical-align: middle;\n",
       "    }\n",
       "\n",
       "    .dataframe tbody tr th {\n",
       "        vertical-align: top;\n",
       "    }\n",
       "\n",
       "    .dataframe thead th {\n",
       "        text-align: right;\n",
       "    }\n",
       "</style>\n",
       "<table border=\"1\" class=\"dataframe\">\n",
       "  <thead>\n",
       "    <tr style=\"text-align: right;\">\n",
       "      <th></th>\n",
       "      <th>Covid19</th>\n",
       "      <th>Crude_Oil</th>\n",
       "      <th>Copper</th>\n",
       "      <th>Silver</th>\n",
       "      <th>Platinum</th>\n",
       "      <th>Industrial_Production</th>\n",
       "      <th>Palladium</th>\n",
       "      <th>SP500</th>\n",
       "    </tr>\n",
       "  </thead>\n",
       "  <tbody>\n",
       "    <tr>\n",
       "      <td>2510</td>\n",
       "      <td>416881.0</td>\n",
       "      <td>24.49</td>\n",
       "      <td>2.2040</td>\n",
       "      <td>13.965</td>\n",
       "      <td>745.50</td>\n",
       "      <td>103.664</td>\n",
       "      <td>2247.6</td>\n",
       "      <td>2475.56</td>\n",
       "    </tr>\n",
       "    <tr>\n",
       "      <td>2511</td>\n",
       "      <td>468092.0</td>\n",
       "      <td>22.60</td>\n",
       "      <td>2.1780</td>\n",
       "      <td>14.415</td>\n",
       "      <td>737.10</td>\n",
       "      <td>103.664</td>\n",
       "      <td>2226.1</td>\n",
       "      <td>2630.07</td>\n",
       "    </tr>\n",
       "    <tr>\n",
       "      <td>2512</td>\n",
       "      <td>527839.0</td>\n",
       "      <td>21.51</td>\n",
       "      <td>2.1720</td>\n",
       "      <td>14.315</td>\n",
       "      <td>740.82</td>\n",
       "      <td>103.664</td>\n",
       "      <td>2196.8</td>\n",
       "      <td>2541.47</td>\n",
       "    </tr>\n",
       "    <tr>\n",
       "      <td>2513</td>\n",
       "      <td>715377.0</td>\n",
       "      <td>20.09</td>\n",
       "      <td>2.1555</td>\n",
       "      <td>14.055</td>\n",
       "      <td>723.84</td>\n",
       "      <td>103.664</td>\n",
       "      <td>2197.6</td>\n",
       "      <td>2626.65</td>\n",
       "    </tr>\n",
       "    <tr>\n",
       "      <td>2514</td>\n",
       "      <td>777187.0</td>\n",
       "      <td>20.48</td>\n",
       "      <td>2.2280</td>\n",
       "      <td>13.930</td>\n",
       "      <td>728.80</td>\n",
       "      <td>103.664</td>\n",
       "      <td>2304.8</td>\n",
       "      <td>2584.59</td>\n",
       "    </tr>\n",
       "  </tbody>\n",
       "</table>\n",
       "</div>"
      ],
      "text/plain": [
       "       Covid19  Crude_Oil  Copper  Silver  Platinum  Industrial_Production  \\\n",
       "2510  416881.0      24.49  2.2040  13.965    745.50                103.664   \n",
       "2511  468092.0      22.60  2.1780  14.415    737.10                103.664   \n",
       "2512  527839.0      21.51  2.1720  14.315    740.82                103.664   \n",
       "2513  715377.0      20.09  2.1555  14.055    723.84                103.664   \n",
       "2514  777187.0      20.48  2.2280  13.930    728.80                103.664   \n",
       "\n",
       "      Palladium    SP500  \n",
       "2510     2247.6  2475.56  \n",
       "2511     2226.1  2630.07  \n",
       "2512     2196.8  2541.47  \n",
       "2513     2197.6  2626.65  \n",
       "2514     2304.8  2584.59  "
      ]
     },
     "execution_count": 77,
     "metadata": {},
     "output_type": "execute_result"
    }
   ],
   "source": [
    "indicator='SP500'\n",
    "# Get SQLLite select statement for SP500 index and indicators\n",
    "# Wybranie z bazy danych histotycznych wartosci akcji danej firmy oraz wskaźników\n",
    "df = pd.read_sql_query(\"\"\"select x.\"Date\", c19.\"Index\" Covid19, co.\"Index\" as Crude_Oil, \n",
    "cr.\"Index\" as Copper, s.\"Index\" as Silver, p.\"Index\" as Platinum,\n",
    "ip.\"Index\" as Industrial_Production, pa.\"Index\" as Palladium, x.\"Index\" as \"\"\"+indicator+\"\"\"\n",
    " from \"\"\"+indicator+\"\"\" as x\n",
    "  LEFT OUTER JOIN Covid19 as c19 ON x.Date = C19.Date\n",
    "  LEFT OUTER JOIN Crude_Oil as co ON x.Date=co.Date\n",
    "  LEFT OUTER JOIN Copper as cr ON x.Date=cr.Date\n",
    "  LEFT OUTER JOIN Silver as s ON x.Date=s.Date\n",
    "  LEFT OUTER JOIN Platinum as p ON x.Date=p.Date\n",
    "  LEFT OUTER JOIN Industrial_Prod as ip ON strftime('%Y-%m', x.Date)=strftime('%Y-%m', ip.Date)\n",
    "  LEFT OUTER JOIN Palladium as pa ON x.Date=pa.Date\n",
    "Where x.\"Index\" and co.\"Index\" and cr.\"Index\" and s.\"Index\" and p.\"Index\"\n",
    "and ip.\"Index\" and pa.\"Index\" IS NOT NULL\n",
    "and x.Date < '2020-04-01'\n",
    "\"\"\", conn)\n",
    "\n",
    "# Delete date column\n",
    "# Usunięcie kolumny \"Date\"\n",
    "df = df.drop(columns=['Date'])\n",
    "\n",
    "df.tail()"
   ]
  },
  {
   "cell_type": "code",
   "execution_count": 78,
   "metadata": {},
   "outputs": [],
   "source": [
    "# Fillling with zeros NaN values\n",
    "# Wstawienie 0 w miejscu NaN\n",
    "df=df.fillna(0)"
   ]
  },
  {
   "cell_type": "code",
   "execution_count": 79,
   "metadata": {},
   "outputs": [],
   "source": [
    "# Splitting data into features X, and labels y\n",
    "# Podzielnie danych na X i y w celu zbudowania modelu predykcyjnego\n",
    "X = df.drop(['SP500'], axis=1)\n",
    "y = df['SP500']"
   ]
  },
  {
   "cell_type": "code",
   "execution_count": 80,
   "metadata": {},
   "outputs": [],
   "source": [
    "# splitting data into train and test data\n",
    "# Podzielnie danych na dane uczące i dane testowe\n",
    "seed = 60\n",
    "test_size = 0.2\n",
    "X_train, X_test, y_train, y_test = train_test_split(X,y,test_size=test_size, \n",
    "                                                    random_state=seed)"
   ]
  },
  {
   "cell_type": "code",
   "execution_count": 81,
   "metadata": {},
   "outputs": [
    {
     "data": {
      "text/plain": [
       "array([[-8.75283560e-02,  9.04767490e-01,  1.33607245e+00, ...,\n",
       "         1.20444130e+00, -6.36275462e-01, -4.96131305e-01],\n",
       "       [-8.75283560e-02,  2.99062291e-04, -1.50380154e-01, ...,\n",
       "         8.35633421e-01, -1.73600011e+00, -1.16058235e+00],\n",
       "       [-8.75283560e-02, -8.21903872e-01, -9.14765922e-01, ...,\n",
       "        -8.09001216e-01,  4.32150876e-02, -3.10062165e-01],\n",
       "       ...,\n",
       "       [-8.75283560e-02, -5.20866404e-01, -4.47494345e-01, ...,\n",
       "        -9.97496286e-01,  1.47031880e+00,  2.74786921e+00],\n",
       "       [-8.75283560e-02, -1.17718232e+00, -1.21452505e+00, ...,\n",
       "        -6.92025176e-01,  1.21534401e-01, -4.53148334e-01],\n",
       "       [-8.75283560e-02, -6.85397392e-01, -2.73810382e-01, ...,\n",
       "        -1.29145162e+00,  1.48463757e+00,  1.81423909e+00]])"
      ]
     },
     "execution_count": 81,
     "metadata": {},
     "output_type": "execute_result"
    }
   ],
   "source": [
    "# scaling values\n",
    "# Przekształcenie wartości (Skalowanie polega na tym aby średnia wartość w danej kolumnie wynosiła 0, a średnie odychelnie 1)\n",
    "sc = StandardScaler()\n",
    "X_train = sc.fit_transform(X_train)\n",
    "X_test = sc.transform(X_test)\n",
    "X_train"
   ]
  },
  {
   "cell_type": "code",
   "execution_count": 82,
   "metadata": {},
   "outputs": [],
   "source": [
    "# testing different algorithms to get the data predictions (for visualization in plot)\n",
    "# Testowanie róznych algorytmów oraz stworzenie listy w celu porównania\n",
    "scores = []\n",
    "models = ['Linear Regression'\n",
    "          , 'Lasso Regression'\n",
    "          , 'AdaBoost Regression'\n",
    "          , 'RandomForest Regression'\n",
    "          , 'XGBoost'\n",
    "         ]"
   ]
  },
  {
   "cell_type": "markdown",
   "metadata": {},
   "source": [
    "# Budowanie modeli predykcyjnych"
   ]
  },
  {
   "cell_type": "markdown",
   "metadata": {},
   "source": [
    "## Linear Regression"
   ]
  },
  {
   "cell_type": "code",
   "execution_count": 83,
   "metadata": {},
   "outputs": [],
   "source": [
    "lr = LinearRegression()\n",
    "lr.fit(X_train , y_train)\n",
    "y_pred = lr.predict(X_test)\n",
    "r2 = r2_score(y_test, y_pred)"
   ]
  },
  {
   "cell_type": "code",
   "execution_count": 84,
   "metadata": {},
   "outputs": [
    {
     "name": "stdout",
     "output_type": "stream",
     "text": [
      "Linear Regression R2: 0.96\n"
     ]
    }
   ],
   "source": [
    "# Appending the list with r2 score\n",
    "# \n",
    "scores.append(r2)\n",
    "print('Linear Regression R2: {0:.2f}'.format(r2))"
   ]
  },
  {
   "cell_type": "code",
   "execution_count": 85,
   "metadata": {},
   "outputs": [],
   "source": [
    "#df1 = df['SP500']\n",
    "#y_pred1 = pd.DataFrame(y_pred)\n",
    "\n",
    "#result = pd.concat([df1, y_pred1], axis=1, sort=False)\n",
    "#result.head()\n",
    "#result.describe()"
   ]
  },
  {
   "cell_type": "markdown",
   "metadata": {},
   "source": [
    "# Lasso Regression"
   ]
  },
  {
   "cell_type": "code",
   "execution_count": 86,
   "metadata": {},
   "outputs": [],
   "source": [
    "lasso = Lasso(normalize=True)\n",
    "lasso.fit(X_train , y_train)\n",
    "y_pred = lasso.predict(X_test)\n",
    "r2 = r2_score(y_test, y_pred)"
   ]
  },
  {
   "cell_type": "code",
   "execution_count": 87,
   "metadata": {},
   "outputs": [
    {
     "name": "stdout",
     "output_type": "stream",
     "text": [
      "Lasso Regression R2: 0.95\n"
     ]
    }
   ],
   "source": [
    "# Appending the list with r2 score\n",
    "scores.append(r2)\n",
    "print('Lasso Regression R2: {0:.2f}'.format(r2))"
   ]
  },
  {
   "cell_type": "markdown",
   "metadata": {},
   "source": [
    "# Adaboost classifier"
   ]
  },
  {
   "cell_type": "code",
   "execution_count": 88,
   "metadata": {},
   "outputs": [],
   "source": [
    "adaboost = AdaBoostRegressor(n_estimators=1000)\n",
    "adaboost.fit(X_train , y_train)\n",
    "y_pred = adaboost.predict(X_test)\n",
    "r2 = r2_score(y_test, y_pred)"
   ]
  },
  {
   "cell_type": "code",
   "execution_count": 89,
   "metadata": {},
   "outputs": [
    {
     "name": "stdout",
     "output_type": "stream",
     "text": [
      "AdaBoost Regression R2: 0.99\n"
     ]
    }
   ],
   "source": [
    "# Appending the list with r2 score\n",
    "scores.append(r2)\n",
    "print('AdaBoost Regression R2: {0:.2f}'.format(r2))"
   ]
  },
  {
   "cell_type": "markdown",
   "metadata": {},
   "source": [
    "# Random forest"
   ]
  },
  {
   "cell_type": "code",
   "execution_count": 90,
   "metadata": {},
   "outputs": [],
   "source": [
    "randomforest = RandomForestRegressor()\n",
    "randomforest .fit(X_train , y_train)\n",
    "y_pred = randomforest .predict(X_test)\n",
    "r2 = r2_score(y_test, y_pred)"
   ]
  },
  {
   "cell_type": "code",
   "execution_count": 91,
   "metadata": {},
   "outputs": [
    {
     "name": "stdout",
     "output_type": "stream",
     "text": [
      "Random Forest R2: 1.00\n"
     ]
    }
   ],
   "source": [
    "# Appending the list with r2 score\n",
    "scores.append(r2)\n",
    "print('Random Forest R2: {0:.2f}'.format(r2))"
   ]
  },
  {
   "cell_type": "markdown",
   "metadata": {},
   "source": [
    "# XGBOOST"
   ]
  },
  {
   "cell_type": "code",
   "execution_count": 92,
   "metadata": {},
   "outputs": [
    {
     "data": {
      "text/plain": [
       "XGBClassifier(base_score=0.5, booster='gbtree', colsample_bylevel=1,\n",
       "              colsample_bynode=1, colsample_bytree=1, gamma=0,\n",
       "              learning_rate=0.1, max_delta_step=0, max_depth=3,\n",
       "              min_child_weight=1, missing=None, n_estimators=100, n_jobs=1,\n",
       "              nthread=None, objective='multi:softprob', random_state=0,\n",
       "              reg_alpha=0, reg_lambda=1, scale_pos_weight=1, seed=None,\n",
       "              silent=None, subsample=1, verbosity=1)"
      ]
     },
     "execution_count": 92,
     "metadata": {},
     "output_type": "execute_result"
    }
   ],
   "source": [
    "# fit model no training data\n",
    "model = XGBClassifier()\n",
    "model.fit(X_train, y_train)"
   ]
  },
  {
   "cell_type": "code",
   "execution_count": 93,
   "metadata": {},
   "outputs": [],
   "source": [
    "# make predictions for test data\n",
    "y_pred = model.predict(X_test)\n",
    "predictions = [round(value) for value in y_pred]"
   ]
  },
  {
   "cell_type": "code",
   "execution_count": 94,
   "metadata": {},
   "outputs": [],
   "source": [
    "# evaluate predictions\n",
    "#accuracy_score(y_true, y_pred.round(), normalize=False)\n",
    "r2 = r2_score(y_test, predictions)"
   ]
  },
  {
   "cell_type": "code",
   "execution_count": 95,
   "metadata": {},
   "outputs": [
    {
     "name": "stdout",
     "output_type": "stream",
     "text": [
      "XGBoost R2: 0.92\n"
     ]
    }
   ],
   "source": [
    "# Appending the list with r2 score\n",
    "scores.append(r2)\n",
    "print('XGBoost R2: {0:.2f}'.format(r2))"
   ]
  },
  {
   "cell_type": "markdown",
   "metadata": {},
   "source": [
    "# Machine Learning algorthims R2 score comparison"
   ]
  },
  {
   "cell_type": "code",
   "execution_count": 96,
   "metadata": {},
   "outputs": [
    {
     "data": {
      "text/plain": [
       "<matplotlib.axes._subplots.AxesSubplot at 0x2bce4b68a88>"
      ]
     },
     "execution_count": 96,
     "metadata": {},
     "output_type": "execute_result"
    },
    {
     "data": {
      "image/png": "[encoded data removed]",
      "text/plain": [
       "<Figure size 432x288 with 1 Axes>"
      ]
     },
     "metadata": {
      "needs_background": "light"
     },
     "output_type": "display_data"
    }
   ],
   "source": [
    "#Showing comparison on bar plot\n",
    "ranking = pd.DataFrame({'Algorithms' : models , 'R2-Scores' : scores})\n",
    "ranking = ranking.sort_values(by='R2-Scores' ,ascending=False)\n",
    "ranking\n",
    " \n",
    "sns.barplot(x='R2-Scores' , y='Algorithms' , data=ranking)"
   ]
  },
  {
   "cell_type": "code",
   "execution_count": null,
   "metadata": {},
   "outputs": [],
   "source": []
  }
 ],
 "metadata": {
  "kernelspec": {
   "display_name": "Python 3",
   "language": "python",
   "name": "python3"
  },
  "language_info": {
   "codemirror_mode": {
    "name": "ipython",
    "version": 3
   },
   "file_extension": ".py",
   "mimetype": "text/x-python",
   "name": "python",
   "nbconvert_exporter": "python",
   "pygments_lexer": "ipython3",
   "version": "3.7.4"
  }
 },
 "nbformat": 4,
 "nbformat_minor": 2
}
