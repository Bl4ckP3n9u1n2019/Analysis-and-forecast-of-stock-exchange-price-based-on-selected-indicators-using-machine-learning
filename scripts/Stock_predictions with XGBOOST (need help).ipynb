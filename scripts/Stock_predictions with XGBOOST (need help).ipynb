{
 "cells": [
  {
   "cell_type": "markdown",
   "metadata": {},
   "source": [
    "# SP500 Attempt to predict index using other indicators with XGBOOST (NEED YOUR HELP)\n",
    "https://machinelearningmastery.com/develop-first-xgboost-model-python-scikit-learn/\n",
    "NIE DOKONCZONE"
   ]
  },
  {
   "cell_type": "code",
   "execution_count": 1,
   "metadata": {},
   "outputs": [],
   "source": [
    "import pandas as pd\n",
    "import xgboost as xgb\n",
    "import numpy as np\n",
    "import datetime as dt\n",
    "import pyodbc\n",
    "import datetime\n",
    "import plotly.express as px\n",
    "import sqlite3\n",
    "import os\n",
    "from numpy import loadtxt\n",
    "from xgboost import XGBClassifier\n",
    "from sklearn.model_selection import train_test_split\n",
    "from sklearn.metrics import accuracy_score"
   ]
  },
  {
   "cell_type": "code",
   "execution_count": 2,
   "metadata": {},
   "outputs": [],
   "source": [
    "#Destination folder (comment unused directory)\n",
    "#1 \n",
    "os.chdir(\"C:/Users/Lukasz/Documents/GitHub/Analysis-and-forecast-of-stock-exchange-price-based-on-selected-indicators-using-machine-learning/data\")\n",
    "#2\n",
    "#os.chdir(\"F:/GitHub/Analysis-and-forecast-of-stock-exchange-price-based-on-selected-indicators-using-machine-learning/data\")\n",
    "\n",
    "# Create your connection.\n",
    "conn = sqlite3.connect('predictions.db')\n",
    "c = conn.cursor()"
   ]
  },
  {
   "cell_type": "code",
   "execution_count": 3,
   "metadata": {},
   "outputs": [
    {
     "data": {
      "text/html": [
       "<div>\n",
       "<style scoped>\n",
       "    .dataframe tbody tr th:only-of-type {\n",
       "        vertical-align: middle;\n",
       "    }\n",
       "\n",
       "    .dataframe tbody tr th {\n",
       "        vertical-align: top;\n",
       "    }\n",
       "\n",
       "    .dataframe thead th {\n",
       "        text-align: right;\n",
       "    }\n",
       "</style>\n",
       "<table border=\"1\" class=\"dataframe\">\n",
       "  <thead>\n",
       "    <tr style=\"text-align: right;\">\n",
       "      <th></th>\n",
       "      <th>Date</th>\n",
       "      <th>Covid19</th>\n",
       "      <th>Crude_Oil</th>\n",
       "      <th>Copper</th>\n",
       "      <th>Silver</th>\n",
       "      <th>Platinum</th>\n",
       "      <th>Industrial_Production</th>\n",
       "      <th>Palladium</th>\n",
       "      <th>SP500</th>\n",
       "    </tr>\n",
       "  </thead>\n",
       "  <tbody>\n",
       "    <tr>\n",
       "      <td>2510</td>\n",
       "      <td>2020-03-25 00:00:00</td>\n",
       "      <td>416881.0</td>\n",
       "      <td>24.49</td>\n",
       "      <td>2.2040</td>\n",
       "      <td>13.965</td>\n",
       "      <td>745.50</td>\n",
       "      <td>103.664</td>\n",
       "      <td>2247.6</td>\n",
       "      <td>2475.56</td>\n",
       "    </tr>\n",
       "    <tr>\n",
       "      <td>2511</td>\n",
       "      <td>2020-03-26 00:00:00</td>\n",
       "      <td>468092.0</td>\n",
       "      <td>22.60</td>\n",
       "      <td>2.1780</td>\n",
       "      <td>14.415</td>\n",
       "      <td>737.10</td>\n",
       "      <td>103.664</td>\n",
       "      <td>2226.1</td>\n",
       "      <td>2630.07</td>\n",
       "    </tr>\n",
       "    <tr>\n",
       "      <td>2512</td>\n",
       "      <td>2020-03-27 00:00:00</td>\n",
       "      <td>527839.0</td>\n",
       "      <td>21.51</td>\n",
       "      <td>2.1720</td>\n",
       "      <td>14.315</td>\n",
       "      <td>740.82</td>\n",
       "      <td>103.664</td>\n",
       "      <td>2196.8</td>\n",
       "      <td>2541.47</td>\n",
       "    </tr>\n",
       "    <tr>\n",
       "      <td>2513</td>\n",
       "      <td>2020-03-30 00:00:00</td>\n",
       "      <td>715377.0</td>\n",
       "      <td>20.09</td>\n",
       "      <td>2.1555</td>\n",
       "      <td>14.055</td>\n",
       "      <td>723.84</td>\n",
       "      <td>103.664</td>\n",
       "      <td>2197.6</td>\n",
       "      <td>2626.65</td>\n",
       "    </tr>\n",
       "    <tr>\n",
       "      <td>2514</td>\n",
       "      <td>2020-03-31 00:00:00</td>\n",
       "      <td>777187.0</td>\n",
       "      <td>20.48</td>\n",
       "      <td>2.2280</td>\n",
       "      <td>13.930</td>\n",
       "      <td>728.80</td>\n",
       "      <td>103.664</td>\n",
       "      <td>2304.8</td>\n",
       "      <td>2584.59</td>\n",
       "    </tr>\n",
       "  </tbody>\n",
       "</table>\n",
       "</div>"
      ],
      "text/plain": [
       "                     Date   Covid19  Crude_Oil  Copper  Silver  Platinum  \\\n",
       "2510  2020-03-25 00:00:00  416881.0      24.49  2.2040  13.965    745.50   \n",
       "2511  2020-03-26 00:00:00  468092.0      22.60  2.1780  14.415    737.10   \n",
       "2512  2020-03-27 00:00:00  527839.0      21.51  2.1720  14.315    740.82   \n",
       "2513  2020-03-30 00:00:00  715377.0      20.09  2.1555  14.055    723.84   \n",
       "2514  2020-03-31 00:00:00  777187.0      20.48  2.2280  13.930    728.80   \n",
       "\n",
       "      Industrial_Production  Palladium    SP500  \n",
       "2510                103.664     2247.6  2475.56  \n",
       "2511                103.664     2226.1  2630.07  \n",
       "2512                103.664     2196.8  2541.47  \n",
       "2513                103.664     2197.6  2626.65  \n",
       "2514                103.664     2304.8  2584.59  "
      ]
     },
     "execution_count": 3,
     "metadata": {},
     "output_type": "execute_result"
    }
   ],
   "source": [
    "indicator=\"SP500\"\n",
    "#Get SQLLite select statement for SP500 index and indicators\n",
    "df = pd.read_sql_query(\"\"\"select x.\"Date\", c19.\"Index\" Covid19, co.\"Index\" as Crude_Oil, \n",
    "cr.\"Index\" as Copper, s.\"Index\" as Silver, p.\"Index\" as Platinum,\n",
    "ip.\"Index\" as Industrial_Production, pa.\"Index\" as Palladium, x.\"Index\" as \"\"\"+indicator+\"\"\"\n",
    " from \"\"\"+indicator+\"\"\" as x\n",
    "  LEFT OUTER JOIN Covid19 as c19 ON x.Date = C19.Date\n",
    "  LEFT OUTER JOIN Crude_Oil as co ON x.Date=co.Date\n",
    "  LEFT OUTER JOIN Copper as cr ON x.Date=cr.Date\n",
    "  LEFT OUTER JOIN Silver as s ON x.Date=s.Date\n",
    "  LEFT OUTER JOIN Platinum as p ON x.Date=p.Date\n",
    "  LEFT OUTER JOIN Industrial_Prod as ip ON strftime('%Y-%m', x.Date)=strftime('%Y-%m', ip.Date)\n",
    "  LEFT OUTER JOIN Palladium as pa ON x.Date=pa.Date\n",
    "Where x.\"Index\" and co.\"Index\" and cr.\"Index\" and s.\"Index\" and p.\"Index\"\n",
    "and ip.\"Index\" and pa.\"Index\" IS NOT NULL\n",
    "and x.Date < '2020-04-01'\n",
    "\"\"\", conn)\n",
    "\n",
    "df.tail()"
   ]
  },
  {
   "cell_type": "code",
   "execution_count": 4,
   "metadata": {},
   "outputs": [],
   "source": [
    "df=df.fillna(0)"
   ]
  },
  {
   "cell_type": "code",
   "execution_count": 5,
   "metadata": {},
   "outputs": [],
   "source": [
    "X, y = df.iloc[:,1:-1],df.iloc[:,-1]"
   ]
  },
  {
   "cell_type": "code",
   "execution_count": 6,
   "metadata": {},
   "outputs": [],
   "source": [
    "from sklearn.model_selection import train_test_split\n",
    "\n",
    "# split data into train and test sets\n",
    "seed = 7\n",
    "test_size = 0.33\n",
    "X_train, X_test, y_train, y_test = train_test_split(X, y, test_size=test_size, random_state=seed)"
   ]
  },
  {
   "cell_type": "code",
   "execution_count": null,
   "metadata": {},
   "outputs": [],
   "source": []
  },
  {
   "cell_type": "code",
   "execution_count": 7,
   "metadata": {},
   "outputs": [
    {
     "data": {
      "text/plain": [
       "XGBClassifier(base_score=0.5, booster='gbtree', colsample_bylevel=1,\n",
       "              colsample_bynode=1, colsample_bytree=1, gamma=0,\n",
       "              learning_rate=0.1, max_delta_step=0, max_depth=3,\n",
       "              min_child_weight=1, missing=None, n_estimators=100, n_jobs=1,\n",
       "              nthread=None, objective='multi:softprob', random_state=0,\n",
       "              reg_alpha=0, reg_lambda=1, scale_pos_weight=1, seed=None,\n",
       "              silent=None, subsample=1, verbosity=1)"
      ]
     },
     "execution_count": 7,
     "metadata": {},
     "output_type": "execute_result"
    }
   ],
   "source": [
    "# fit model no training data\n",
    "model = XGBClassifier()\n",
    "model.fit(X_train, y_train)"
   ]
  },
  {
   "cell_type": "code",
   "execution_count": 9,
   "metadata": {},
   "outputs": [
    {
     "name": "stdout",
     "output_type": "stream",
     "text": [
      "XGBClassifier(base_score=0.5, booster='gbtree', colsample_bylevel=1,\n",
      "              colsample_bynode=1, colsample_bytree=1, gamma=0,\n",
      "              learning_rate=0.1, max_delta_step=0, max_depth=3,\n",
      "              min_child_weight=1, missing=None, n_estimators=100, n_jobs=1,\n",
      "              nthread=None, objective='multi:softprob', random_state=0,\n",
      "              reg_alpha=0, reg_lambda=1, scale_pos_weight=1, seed=None,\n",
      "              silent=None, subsample=1, verbosity=1)\n"
     ]
    }
   ],
   "source": [
    "print(model)"
   ]
  },
  {
   "cell_type": "code",
   "execution_count": 10,
   "metadata": {},
   "outputs": [],
   "source": [
    "# make predictions for test data\n",
    "y_pred = model.predict(X_test)\n",
    "predictions = [round(value) for value in y_pred]\n"
   ]
  },
  {
   "cell_type": "code",
   "execution_count": 15,
   "metadata": {},
   "outputs": [
    {
     "name": "stdout",
     "output_type": "stream",
     "text": [
      "[2783.0, 2599.0, 1111.0, 1125.0, 1859.0, 2723.0, 2093.0, 1320.0, 2080.0, 2664.0, 2104.0, 2783.0, 2926.0, 1272.0, 1960.0, 2102.0, 1296.0, 2721.0, 2783.0, 2102.0, 1182.0, 1320.0, 2926.0, 2080.0, 2103.0, 2926.0, 1182.0, 2040.0, 1178.0, 1193.0, 1119.0, 2439.0, 1087.0, 2439.0, 2019.0, 1403.0, 1402.0, 2328.0, 1910.0, 2430.0, 2182.0, 1116.0, 2723.0, 2382.0, 2092.0, 2415.0, 1418.0, 2639.0, 1272.0, 1988.0, 1615.0, 2926.0, 1178.0, 2439.0, 1178.0, 1681.0, 2063.0, 2349.0, 1880.0, 1178.0, 2171.0, 2430.0, 1272.0, 2416.0, 2926.0, 2102.0, 1982.0, 2663.0, 2723.0, 2840.0, 1296.0, 2588.0, 1995.0, 2723.0, 2075.0, 2102.0, 2351.0, 1272.0, 2102.0, 1272.0, 1401.0, 1163.0, 1960.0, 2275.0, 2092.0, 2700.0, 1722.0, 1335.0, 2126.0, 2415.0, 1272.0, 2102.0, 2723.0, 1768.0, 2723.0, 2102.0, 2416.0, 2926.0, 1345.0, 2783.0, 1320.0, 1154.0, 2439.0, 1401.0, 2926.0, 1272.0, 2783.0, 2783.0, 2102.0, 1154.0, 1629.0, 2165.0, 2926.0, 2101.0, 1927.0, 2127.0, 2293.0, 1795.0, 1090.0, 2416.0, 1272.0, 1356.0, 2926.0, 2072.0, 1139.0, 1104.0, 1868.0, 2731.0, 1345.0, 2026.0, 1944.0, 1182.0, 1798.0, 2080.0, 2072.0, 2639.0, 1074.0, 2439.0, 1689.0, 2926.0, 2552.0, 2072.0, 3386.0, 1193.0, 1296.0, 1402.0, 2072.0, 2067.0, 1320.0, 2178.0, 2783.0, 2416.0, 2722.0, 2102.0, 2192.0, 1154.0, 2037.0, 2591.0, 1209.0, 1173.0, 2172.0, 1182.0, 1379.0, 1772.0, 1114.0, 2385.0, 2430.0, 2783.0, 2926.0, 1773.0, 1875.0, 2416.0, 2783.0, 1177.0, 2648.0, 1983.0, 2097.0, 1177.0, 1971.0, 1978.0, 2415.0, 1497.0, 2439.0, 1403.0, 1272.0, 1272.0, 2102.0, 2072.0, 2783.0, 2723.0, 1272.0, 2097.0, 2926.0, 2783.0, 1168.0, 1960.0, 1095.0, 1131.0, 2926.0, 1254.0, 2723.0, 1182.0, 1345.0, 1220.0, 2783.0, 2439.0, 1879.0, 1685.0, 1182.0, 2501.0, 2664.0, 1173.0, 1403.0, 2205.0, 2102.0, 1320.0, 1343.0, 2824.0, 2047.0, 2723.0, 2172.0, 1178.0, 1672.0, 1598.0, 1166.0, 2342.0, 2838.0, 1089.0, 1272.0, 2926.0, 1640.0, 2926.0, 1178.0, 2926.0, 2723.0, 2139.0, 1636.0, 2126.0, 1137.0, 2126.0, 1722.0, 1680.0, 1298.0, 1848.0, 2723.0, 2902.0, 1321.0, 2203.0, 1272.0, 1859.0, 2072.0, 2080.0, 1272.0, 1116.0, 2926.0, 1345.0, 2439.0, 2723.0, 1272.0, 1150.0, 1178.0, 1154.0, 1296.0, 2102.0, 1403.0, 2102.0, 1988.0, 1296.0, 2182.0, 1272.0, 2747.0, 1131.0, 1320.0, 1296.0, 2102.0, 1656.0, 2126.0, 2723.0, 1402.0, 2072.0, 1116.0, 2140.0, 2561.0, 2102.0, 2783.0, 2126.0, 1296.0, 2723.0, 1692.0, 3283.0, 2645.0, 1640.0, 1154.0, 1077.0, 2730.0, 2203.0, 1119.0, 1828.0, 2723.0, 2723.0, 1272.0, 1320.0, 2102.0, 2102.0, 1403.0, 2926.0, 2072.0, 2439.0, 1182.0, 2102.0, 1757.0, 1320.0, 1165.0, 2926.0, 2059.0, 2102.0, 2723.0, 2926.0, 1927.0, 2102.0, 1092.0, 2102.0, 2926.0, 1955.0, 2203.0, 1910.0, 1960.0, 2783.0, 2133.0, 1150.0, 1090.0, 1272.0, 2926.0, 1868.0, 1733.0, 1272.0, 2439.0, 1150.0, 1320.0, 1669.0, 1272.0, 1320.0, 2040.0, 1889.0, 1154.0, 2082.0, 2926.0, 2192.0, 2783.0, 1669.0, 2926.0, 1873.0, 2501.0, 2783.0, 2203.0, 2102.0, 1866.0, 2723.0, 2468.0, 2639.0, 2102.0, 1876.0, 2926.0, 2080.0, 2019.0, 1403.0, 2102.0, 1272.0, 1095.0, 2102.0, 1884.0, 1859.0, 1946.0, 2743.0, 1296.0, 1872.0, 2723.0, 1872.0, 2102.0, 1272.0, 1669.0, 1651.0, 2857.0, 2723.0, 2080.0, 1272.0, 2064.0, 1969.0, 1182.0, 1168.0, 2783.0, 1910.0, 2030.0, 2102.0, 2926.0, 2072.0, 1321.0, 1320.0, 2093.0, 2783.0, 1125.0, 1104.0, 2080.0, 3223.0, 2102.0, 1858.0, 2351.0, 2926.0, 1828.0, 2783.0, 2926.0, 2926.0, 1876.0, 2172.0, 2102.0, 1403.0, 1056.0, 2561.0, 3283.0, 2857.0, 1173.0, 2783.0, 3386.0, 2926.0, 2062.0, 2730.0, 2926.0, 1298.0, 2439.0, 1696.0, 1345.0, 1272.0, 2102.0, 2723.0, 1315.0, 1320.0, 1315.0, 2926.0, 1136.0, 2723.0, 2926.0, 2926.0, 1272.0, 1646.0, 1154.0, 1084.0, 2747.0, 1403.0, 1178.0, 2053.0, 2783.0, 2926.0, 2840.0, 2080.0, 2926.0, 2649.0, 1689.0, 1613.0, 2102.0, 1646.0, 2840.0, 2439.0, 2126.0, 2102.0, 1182.0, 1552.0, 1193.0, 1343.0, 2133.0, 2670.0, 1320.0, 1321.0, 1092.0, 2053.0, 2783.0, 2439.0, 2037.0, 2783.0, 1682.0, 2787.0, 2205.0, 2926.0, 2723.0, 1272.0, 1272.0, 1320.0, 2723.0, 2089.0, 2723.0, 2723.0, 1102.0, 1950.0, 2439.0, 2857.0, 1178.0, 1156.0, 2205.0, 1272.0, 1827.0, 1166.0, 2072.0, 1102.0, 2723.0, 1868.0, 1403.0, 1272.0, 1154.0, 1272.0, 2723.0, 2115.0, 2458.0, 2439.0, 2783.0, 2998.0, 2926.0, 1182.0, 2786.0, 2926.0, 1060.0, 2926.0, 2439.0, 2081.0, 2639.0, 2663.0, 2926.0, 2080.0, 2750.0, 2102.0, 2926.0, 1796.0, 2926.0, 1071.0, 1272.0, 1156.0, 2126.0, 1402.0, 1125.0, 2783.0, 1683.0, 2723.0, 2385.0, 2723.0, 1657.0, 1655.0, 2926.0, 2080.0, 2102.0, 2926.0, 2089.0, 2926.0, 1497.0, 2723.0, 2723.0, 2439.0, 2439.0, 2160.0, 2857.0, 2439.0, 1951.0, 1403.0, 1320.0, 1320.0, 2783.0, 2926.0, 2561.0, 2926.0, 2683.0, 2468.0, 1497.0, 1272.0, 1541.0, 1296.0, 1178.0, 2657.0, 2072.0, 2072.0, 2080.0, 1763.0, 1272.0, 2439.0, 1254.0, 1403.0, 1403.0, 1672.0, 2501.0, 1403.0, 2102.0, 2783.0, 1651.0, 2069.0, 1988.0, 2664.0, 2926.0, 2072.0, 1594.0, 1897.0, 1050.0, 1182.0, 1541.0, 2902.0, 1541.0, 1829.0, 2426.0, 1998.0, 2385.0, 1988.0, 1178.0, 2723.0, 2833.0, 1272.0, 1629.0, 1830.0, 1848.0, 2101.0, 2783.0, 1173.0, 2926.0, 2776.0, 1640.0, 2840.0, 3330.0, 1296.0, 1254.0, 2926.0, 2926.0, 1983.0, 2082.0, 1182.0, 1182.0, 1401.0, 2552.0, 1095.0, 2102.0, 2723.0, 2599.0, 1785.0, 1070.0, 1272.0, 1697.0, 3283.0, 1403.0, 2052.0, 2047.0, 1070.0, 2146.0, 2127.0, 1988.0, 1345.0, 1403.0, 2497.0, 2126.0, 1672.0, 1296.0, 1320.0, 1296.0, 1876.0, 1272.0, 1345.0, 2040.0, 1095.0, 1320.0, 2364.0, 1193.0, 1935.0, 2439.0, 1868.0, 1655.0, 1182.0, 1988.0, 2565.0, 2783.0, 1319.0, 2670.0, 2415.0, 2723.0, 1272.0, 2126.0, 2824.0, 1598.0, 1808.0, 1401.0, 2102.0, 2040.0, 1272.0, 1165.0, 1178.0, 2102.0, 2501.0, 2723.0, 2160.0, 2102.0, 2731.0, 2783.0, 2102.0, 2468.0, 1272.0, 2926.0, 1403.0, 1988.0, 2926.0, 2926.0, 2342.0, 1859.0, 2723.0, 1154.0, 1182.0, 2683.0, 2126.0, 1588.0, 1090.0, 1320.0, 1692.0, 2783.0, 1272.0, 1272.0, 2102.0, 2102.0, 1403.0, 2126.0, 1696.0, 3386.0, 2364.0, 2649.0, 2926.0, 2416.0, 2723.0, 2178.0, 1296.0, 1829.0, 2126.0, 2439.0, 1897.0, 2102.0, 3237.0, 2365.0, 2102.0, 2439.0, 2649.0, 2926.0, 1773.0, 1324.0, 2109.0, 1272.0, 2579.0, 3386.0, 2783.0, 2744.0, 1150.0, 1296.0, 1403.0, 2926.0, 2439.0, 2071.0, 1315.0, 2080.0, 1988.0, 2783.0, 2047.0, 1972.0, 1904.0, 2021.0, 1702.0, 2439.0, 2926.0, 2926.0, 2102.0, 2415.0, 2926.0, 1955.0, 1402.0, 2072.0, 2102.0, 2102.0, 1165.0, 2102.0, 2037.0, 2053.0, 1139.0, 1640.0, 2102.0, 2102.0, 2080.0, 1884.0, 2723.0, 2926.0, 2926.0, 1298.0, 2926.0, 2186.0, 1272.0, 1272.0, 1031.0, 1345.0, 2415.0, 2579.0, 2072.0, 1403.0, 1315.0, 1107.0, 2926.0, 1298.0, 1272.0, 2723.0, 2723.0, 1655.0, 2783.0, 1988.0, 2031.0, 1320.0, 1320.0, 1321.0, 1194.0, 1984.0, 2926.0, 1669.0, 2072.0, 1710.0, 2342.0, 1995.0, 1345.0, 2102.0, 1178.0, 1868.0, 2926.0, 1272.0, 2645.0, 1873.0, 1095.0, 2123.0, 2783.0]\n"
     ]
    }
   ],
   "source": [
    "print(predictions)"
   ]
  },
  {
   "cell_type": "code",
   "execution_count": 1,
   "metadata": {},
   "outputs": [
    {
     "ename": "NameError",
     "evalue": "name 'predictions' is not defined",
     "output_type": "error",
     "traceback": [
      "\u001b[1;31m---------------------------------------------------------------------------\u001b[0m",
      "\u001b[1;31mNameError\u001b[0m                                 Traceback (most recent call last)",
      "\u001b[1;32m<ipython-input-1-b95ed1d0c373>\u001b[0m in \u001b[0;36m<module>\u001b[1;34m\u001b[0m\n\u001b[1;32m----> 1\u001b[1;33m \u001b[0mtype\u001b[0m\u001b[1;33m(\u001b[0m\u001b[0mpredictions\u001b[0m\u001b[1;33m)\u001b[0m\u001b[1;33m\u001b[0m\u001b[1;33m\u001b[0m\u001b[0m\n\u001b[0m\u001b[0;32m      2\u001b[0m \u001b[0mdf1\u001b[0m\u001b[1;33m=\u001b[0m\u001b[0mpd\u001b[0m\u001b[1;33m.\u001b[0m\u001b[0mDataFrame\u001b[0m\u001b[1;33m(\u001b[0m\u001b[0mpredictions\u001b[0m\u001b[1;33m)\u001b[0m\u001b[1;33m\u001b[0m\u001b[1;33m\u001b[0m\u001b[0m\n",
      "\u001b[1;31mNameError\u001b[0m: name 'predictions' is not defined"
     ]
    }
   ],
   "source": [
    "df1=pd.DataFrame(predictions)"
   ]
  },
  {
   "cell_type": "code",
   "execution_count": 18,
   "metadata": {},
   "outputs": [
    {
     "ename": "ValueError",
     "evalue": "Classification metrics can't handle a mix of continuous and multiclass targets",
     "output_type": "error",
     "traceback": [
      "\u001b[1;31m---------------------------------------------------------------------------\u001b[0m",
      "\u001b[1;31mValueError\u001b[0m                                Traceback (most recent call last)",
      "\u001b[1;32m<ipython-input-18-963393183f1f>\u001b[0m in \u001b[0;36m<module>\u001b[1;34m\u001b[0m\n\u001b[0;32m      1\u001b[0m \u001b[1;31m# evaluate predictions\u001b[0m\u001b[1;33m\u001b[0m\u001b[1;33m\u001b[0m\u001b[1;33m\u001b[0m\u001b[0m\n\u001b[0;32m      2\u001b[0m \u001b[1;31m#accuracy_score(y_true, y_pred.round(), normalize=False)\u001b[0m\u001b[1;33m\u001b[0m\u001b[1;33m\u001b[0m\u001b[1;33m\u001b[0m\u001b[0m\n\u001b[1;32m----> 3\u001b[1;33m \u001b[0maccuracy\u001b[0m \u001b[1;33m=\u001b[0m \u001b[0maccuracy_score\u001b[0m\u001b[1;33m(\u001b[0m\u001b[0my_test\u001b[0m\u001b[1;33m,\u001b[0m \u001b[0mpredictions\u001b[0m\u001b[1;33m,\u001b[0m \u001b[0mnormalize\u001b[0m\u001b[1;33m=\u001b[0m\u001b[1;32mFalse\u001b[0m\u001b[1;33m)\u001b[0m\u001b[1;33m\u001b[0m\u001b[1;33m\u001b[0m\u001b[0m\n\u001b[0m\u001b[0;32m      4\u001b[0m \u001b[0mprint\u001b[0m\u001b[1;33m(\u001b[0m\u001b[1;34m\"Accuracy: %.2f%%\"\u001b[0m \u001b[1;33m%\u001b[0m \u001b[1;33m(\u001b[0m\u001b[0maccuracy\u001b[0m \u001b[1;33m*\u001b[0m \u001b[1;36m100.0\u001b[0m\u001b[1;33m)\u001b[0m\u001b[1;33m)\u001b[0m\u001b[1;33m\u001b[0m\u001b[1;33m\u001b[0m\u001b[0m\n",
      "\u001b[1;32m~\\Anaconda3\\lib\\site-packages\\sklearn\\metrics\\classification.py\u001b[0m in \u001b[0;36maccuracy_score\u001b[1;34m(y_true, y_pred, normalize, sample_weight)\u001b[0m\n\u001b[0;32m    174\u001b[0m \u001b[1;33m\u001b[0m\u001b[0m\n\u001b[0;32m    175\u001b[0m     \u001b[1;31m# Compute accuracy for each possible representation\u001b[0m\u001b[1;33m\u001b[0m\u001b[1;33m\u001b[0m\u001b[1;33m\u001b[0m\u001b[0m\n\u001b[1;32m--> 176\u001b[1;33m     \u001b[0my_type\u001b[0m\u001b[1;33m,\u001b[0m \u001b[0my_true\u001b[0m\u001b[1;33m,\u001b[0m \u001b[0my_pred\u001b[0m \u001b[1;33m=\u001b[0m \u001b[0m_check_targets\u001b[0m\u001b[1;33m(\u001b[0m\u001b[0my_true\u001b[0m\u001b[1;33m,\u001b[0m \u001b[0my_pred\u001b[0m\u001b[1;33m)\u001b[0m\u001b[1;33m\u001b[0m\u001b[1;33m\u001b[0m\u001b[0m\n\u001b[0m\u001b[0;32m    177\u001b[0m     \u001b[0mcheck_consistent_length\u001b[0m\u001b[1;33m(\u001b[0m\u001b[0my_true\u001b[0m\u001b[1;33m,\u001b[0m \u001b[0my_pred\u001b[0m\u001b[1;33m,\u001b[0m \u001b[0msample_weight\u001b[0m\u001b[1;33m)\u001b[0m\u001b[1;33m\u001b[0m\u001b[1;33m\u001b[0m\u001b[0m\n\u001b[0;32m    178\u001b[0m     \u001b[1;32mif\u001b[0m \u001b[0my_type\u001b[0m\u001b[1;33m.\u001b[0m\u001b[0mstartswith\u001b[0m\u001b[1;33m(\u001b[0m\u001b[1;34m'multilabel'\u001b[0m\u001b[1;33m)\u001b[0m\u001b[1;33m:\u001b[0m\u001b[1;33m\u001b[0m\u001b[1;33m\u001b[0m\u001b[0m\n",
      "\u001b[1;32m~\\Anaconda3\\lib\\site-packages\\sklearn\\metrics\\classification.py\u001b[0m in \u001b[0;36m_check_targets\u001b[1;34m(y_true, y_pred)\u001b[0m\n\u001b[0;32m     79\u001b[0m     \u001b[1;32mif\u001b[0m \u001b[0mlen\u001b[0m\u001b[1;33m(\u001b[0m\u001b[0my_type\u001b[0m\u001b[1;33m)\u001b[0m \u001b[1;33m>\u001b[0m \u001b[1;36m1\u001b[0m\u001b[1;33m:\u001b[0m\u001b[1;33m\u001b[0m\u001b[1;33m\u001b[0m\u001b[0m\n\u001b[0;32m     80\u001b[0m         raise ValueError(\"Classification metrics can't handle a mix of {0} \"\n\u001b[1;32m---> 81\u001b[1;33m                          \"and {1} targets\".format(type_true, type_pred))\n\u001b[0m\u001b[0;32m     82\u001b[0m \u001b[1;33m\u001b[0m\u001b[0m\n\u001b[0;32m     83\u001b[0m     \u001b[1;31m# We can't have more than one value on y_type => The set is no more needed\u001b[0m\u001b[1;33m\u001b[0m\u001b[1;33m\u001b[0m\u001b[1;33m\u001b[0m\u001b[0m\n",
      "\u001b[1;31mValueError\u001b[0m: Classification metrics can't handle a mix of continuous and multiclass targets"
     ]
    }
   ],
   "source": [
    "# evaluate predictions\n",
    "#accuracy_score(y_true, y_pred.round(), normalize=False)\n",
    "accuracy = accuracy_score(y_test, predictions)\n",
    "print(\"Accuracy: %.2f%%\" % (accuracy * 100.0))"
   ]
  },
  {
   "cell_type": "code",
   "execution_count": null,
   "metadata": {},
   "outputs": [],
   "source": []
  },
  {
   "cell_type": "code",
   "execution_count": null,
   "metadata": {},
   "outputs": [],
   "source": []
  }
 ],
 "metadata": {
  "kernelspec": {
   "display_name": "Python 3",
   "language": "python",
   "name": "python3"
  }
 },
 "nbformat": 4,
 "nbformat_minor": 2
}
