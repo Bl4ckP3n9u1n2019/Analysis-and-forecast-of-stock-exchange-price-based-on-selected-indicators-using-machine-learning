{
 "cells": [
  {
   "cell_type": "code",
   "execution_count": 77,
   "metadata": {},
   "outputs": [],
   "source": [
    "import pandas as pd\n",
    "import numpy as np\n",
    "import matplotlib.pyplot as plt\n",
    "import seaborn as sns\n",
    "import datetime as dt\n",
    "import datetime\n",
    "import sqlite3\n",
    "import os\n",
    "\n",
    "# import xgboost\n",
    "import xgboost as xgb\n",
    "from xgboost import XGBClassifier\n",
    "\n",
    "# Loading modelling algorithms\n",
    "# Załadowanie algorytmów modeli\n",
    "from sklearn.linear_model import LinearRegression\n",
    "from sklearn.linear_model import Ridge\n",
    "from sklearn.neighbors    import KNeighborsRegressor\n",
    "from sklearn.ensemble     import AdaBoostRegressor\n",
    "from sklearn.ensemble     import RandomForestRegressor\n",
    "\n",
    "# Loading tools\n",
    "# Załadownie narzędzi\n",
    "from sklearn.model_selection import train_test_split\n",
    "from sklearn.preprocessing   import StandardScaler\n",
    "from sklearn.metrics         import r2_score\n",
    "\n",
    "# Ignore warning messages\n",
    "# Ignorowanie ostrzeżeń\n",
    "import warnings\n",
    "warnings.filterwarnings('ignore')"
   ]
  },
  {
   "cell_type": "code",
   "execution_count": 78,
   "metadata": {},
   "outputs": [],
   "source": [
    "# Destination folder (comment unused directory)\n",
    "# Wybranie folderu docelowego\n",
    "#1 \n",
    "#os.chdir(\"C:/Users/Lukasz/Documents/GitHub/Analysis-and-forecast-of-stock-exchange-price-based-on-selected-indicators-using-machine-learning/data\")\n",
    "#2\n",
    "os.chdir(\"F:/GitHub/Analysis-and-forecast-of-stock-exchange-price-based-on-selected-indicators-using-machine-learning/data\")\n",
    "\n",
    "# Creating a connection\n",
    "# Stworzenie połączenia za pomocą sqlite3\n",
    "conn = sqlite3.connect('predictions.db')\n",
    "c = conn.cursor()"
   ]
  },
  {
   "cell_type": "code",
   "execution_count": 79,
   "metadata": {},
   "outputs": [
    {
     "data": {
      "text/html": [
       "<div>\n",
       "<style scoped>\n",
       "    .dataframe tbody tr th:only-of-type {\n",
       "        vertical-align: middle;\n",
       "    }\n",
       "\n",
       "    .dataframe tbody tr th {\n",
       "        vertical-align: top;\n",
       "    }\n",
       "\n",
       "    .dataframe thead th {\n",
       "        text-align: right;\n",
       "    }\n",
       "</style>\n",
       "<table border=\"1\" class=\"dataframe\">\n",
       "  <thead>\n",
       "    <tr style=\"text-align: right;\">\n",
       "      <th></th>\n",
       "      <th>Covid19</th>\n",
       "      <th>Crude_Oil</th>\n",
       "      <th>Copper</th>\n",
       "      <th>Silver</th>\n",
       "      <th>Platinum</th>\n",
       "      <th>Industrial_Production</th>\n",
       "      <th>Palladium</th>\n",
       "      <th>Peabody</th>\n",
       "    </tr>\n",
       "  </thead>\n",
       "  <tbody>\n",
       "    <tr>\n",
       "      <td>730</td>\n",
       "      <td>416881.0</td>\n",
       "      <td>24.49</td>\n",
       "      <td>2.2040</td>\n",
       "      <td>13.965</td>\n",
       "      <td>745.50</td>\n",
       "      <td>103.664</td>\n",
       "      <td>2247.6</td>\n",
       "      <td>3.12</td>\n",
       "    </tr>\n",
       "    <tr>\n",
       "      <td>731</td>\n",
       "      <td>468092.0</td>\n",
       "      <td>22.60</td>\n",
       "      <td>2.1780</td>\n",
       "      <td>14.415</td>\n",
       "      <td>737.10</td>\n",
       "      <td>103.664</td>\n",
       "      <td>2226.1</td>\n",
       "      <td>2.84</td>\n",
       "    </tr>\n",
       "    <tr>\n",
       "      <td>732</td>\n",
       "      <td>527839.0</td>\n",
       "      <td>21.51</td>\n",
       "      <td>2.1720</td>\n",
       "      <td>14.315</td>\n",
       "      <td>740.82</td>\n",
       "      <td>103.664</td>\n",
       "      <td>2196.8</td>\n",
       "      <td>2.81</td>\n",
       "    </tr>\n",
       "    <tr>\n",
       "      <td>733</td>\n",
       "      <td>715377.0</td>\n",
       "      <td>20.09</td>\n",
       "      <td>2.1555</td>\n",
       "      <td>14.055</td>\n",
       "      <td>723.84</td>\n",
       "      <td>103.664</td>\n",
       "      <td>2197.6</td>\n",
       "      <td>2.70</td>\n",
       "    </tr>\n",
       "    <tr>\n",
       "      <td>734</td>\n",
       "      <td>777187.0</td>\n",
       "      <td>20.48</td>\n",
       "      <td>2.2280</td>\n",
       "      <td>13.930</td>\n",
       "      <td>728.80</td>\n",
       "      <td>103.664</td>\n",
       "      <td>2304.8</td>\n",
       "      <td>2.90</td>\n",
       "    </tr>\n",
       "  </tbody>\n",
       "</table>\n",
       "</div>"
      ],
      "text/plain": [
       "      Covid19  Crude_Oil  Copper  Silver  Platinum  Industrial_Production  \\\n",
       "730  416881.0      24.49  2.2040  13.965    745.50                103.664   \n",
       "731  468092.0      22.60  2.1780  14.415    737.10                103.664   \n",
       "732  527839.0      21.51  2.1720  14.315    740.82                103.664   \n",
       "733  715377.0      20.09  2.1555  14.055    723.84                103.664   \n",
       "734  777187.0      20.48  2.2280  13.930    728.80                103.664   \n",
       "\n",
       "     Palladium  Peabody  \n",
       "730     2247.6     3.12  \n",
       "731     2226.1     2.84  \n",
       "732     2196.8     2.81  \n",
       "733     2197.6     2.70  \n",
       "734     2304.8     2.90  "
      ]
     },
     "execution_count": 79,
     "metadata": {},
     "output_type": "execute_result"
    }
   ],
   "source": [
    "indicator='Peabody'\n",
    "# Get SQLLite select statement for SP500 index and indicators\n",
    "# Wybranie z bazy danych histotycznych wartosci akcji danej firmy oraz wskaźników\n",
    "df = pd.read_sql_query(\"\"\"select x.\"Date\", c19.\"Index\" Covid19, co.\"Index\" as Crude_Oil, \n",
    "cr.\"Index\" as Copper, s.\"Index\" as Silver, p.\"Index\" as Platinum,\n",
    "ip.\"Index\" as Industrial_Production, pa.\"Index\" as Palladium, x.\"Index\" as \"\"\"+indicator+\"\"\"\n",
    " from \"\"\"+indicator+\"\"\" as x\n",
    "  LEFT OUTER JOIN Covid19 as c19 ON x.Date = C19.Date\n",
    "  LEFT OUTER JOIN Crude_Oil as co ON x.Date=co.Date\n",
    "  LEFT OUTER JOIN Copper as cr ON x.Date=cr.Date\n",
    "  LEFT OUTER JOIN Silver as s ON x.Date=s.Date\n",
    "  LEFT OUTER JOIN Platinum as p ON x.Date=p.Date\n",
    "  LEFT OUTER JOIN Industrial_Prod as ip ON strftime('%Y-%m', x.Date)=strftime('%Y-%m', ip.Date)\n",
    "  LEFT OUTER JOIN Palladium as pa ON x.Date=pa.Date\n",
    "Where x.\"Index\" and co.\"Index\" and cr.\"Index\" and s.\"Index\" and p.\"Index\"\n",
    "and ip.\"Index\" and pa.\"Index\" IS NOT NULL\n",
    "and x.Date < '2020-04-01'\n",
    "\"\"\", conn)\n",
    "\n",
    "# Delete date column\n",
    "# Usunięcie kolumny \"Date\"\n",
    "df = df.drop(columns=['Date'])\n",
    "\n",
    "df.tail()"
   ]
  },
  {
   "cell_type": "code",
   "execution_count": 80,
   "metadata": {},
   "outputs": [],
   "source": [
    "# Fillling with zeros NaN values\n",
    "# Wstawienie 0 w miejscu NaN\n",
    "df=df.fillna(0)"
   ]
  },
  {
   "cell_type": "code",
   "execution_count": 81,
   "metadata": {},
   "outputs": [],
   "source": [
    "# Splitting data into features X, and labels y\n",
    "# Podzielnie danych na X i y w celu zbudowania modelu predykcyjnego\n",
    "X = df.drop(['Peabody'], axis=1)\n",
    "y = df['Peabody']"
   ]
  },
  {
   "cell_type": "code",
   "execution_count": 82,
   "metadata": {},
   "outputs": [],
   "source": [
    "# splitting data into train and test data\n",
    "# Podzielnie danych na dane uczące i dane testowe\n",
    "seed = 40\n",
    "test_size = 0.2\n",
    "X_train, X_test, y_train, y_test = train_test_split(X,y,test_size=test_size, \n",
    "                                                    random_state=seed)"
   ]
  },
  {
   "cell_type": "code",
   "execution_count": 83,
   "metadata": {},
   "outputs": [
    {
     "data": {
      "text/plain": [
       "array([[-0.164701  , -0.18981792,  0.64074855, ..., -0.48552946,\n",
       "         0.77319112,  0.60569663],\n",
       "       [-0.164701  ,  0.06016249,  0.55621165, ...,  0.3503954 ,\n",
       "        -0.61831788, -0.69247543],\n",
       "       [-0.164701  ,  1.07225132, -0.18066075, ..., -0.87055264,\n",
       "         0.75572255, -0.88011386],\n",
       "       ...,\n",
       "       [-0.164701  , -0.43426779, -1.06219521, ...,  1.22731131,\n",
       "        -1.65907652, -1.12434167],\n",
       "       [-0.164701  ,  0.70834179,  1.85862231, ...,  1.54060014,\n",
       "        -0.56958979, -0.54033937],\n",
       "       [-0.164701  ,  1.41182648,  0.11770476, ..., -0.69926856,\n",
       "         0.35440529, -0.80029307]])"
      ]
     },
     "execution_count": 83,
     "metadata": {},
     "output_type": "execute_result"
    }
   ],
   "source": [
    "# scaling values\n",
    "# Przekształcenie wartości (Skalowanie polega na tym aby średnia wartość w danej kolumnie wynosiła 0, a średnie odychelnie 1)\n",
    "sc = StandardScaler()\n",
    "X_train = sc.fit_transform(X_train)\n",
    "X_test = sc.transform(X_test)\n",
    "X_train"
   ]
  },
  {
   "cell_type": "code",
   "execution_count": 84,
   "metadata": {},
   "outputs": [],
   "source": [
    "# testing different algorithms to get the data predictions (for visualization in plot)\n",
    "# Testowanie róznych algorytmów oraz stworzenie listy w celu porównania\n",
    "scores = []\n",
    "models = ['Linear Regression'\n",
    "          , 'Ridge Regression'\n",
    "          , 'AdaBoost Regression'\n",
    "          , 'RandomForest Regression'\n",
    "          , 'XGBoost'\n",
    "         ]"
   ]
  },
  {
   "cell_type": "markdown",
   "metadata": {},
   "source": [
    "# Budowanie modeli predykcyjnych"
   ]
  },
  {
   "cell_type": "markdown",
   "metadata": {},
   "source": [
    "## Linear Regression"
   ]
  },
  {
   "cell_type": "code",
   "execution_count": 85,
   "metadata": {},
   "outputs": [],
   "source": [
    "lr = LinearRegression()\n",
    "lr.fit(X_train , y_train)\n",
    "y_pred = lr.predict(X_test)\n",
    "r2 = r2_score(y_test, y_pred)"
   ]
  },
  {
   "cell_type": "code",
   "execution_count": 86,
   "metadata": {},
   "outputs": [
    {
     "name": "stdout",
     "output_type": "stream",
     "text": [
      "Linear Regression R2: 0.89\n"
     ]
    }
   ],
   "source": [
    "# Appending the list with r2 score\n",
    "# Dodanie do listy współczynnika determinacji R2\n",
    "scores.append(r2)\n",
    "print('Linear Regression R2: {0:.2f}'.format(r2))"
   ]
  },
  {
   "cell_type": "markdown",
   "metadata": {},
   "source": [
    "# Ridge Regression"
   ]
  },
  {
   "cell_type": "code",
   "execution_count": 87,
   "metadata": {},
   "outputs": [],
   "source": [
    "ridge = Ridge(normalize=True)\n",
    "ridge.fit(X_train , y_train)\n",
    "y_pred = ridge.predict(X_test)\n",
    "r2 = r2_score(y_test, y_pred)"
   ]
  },
  {
   "cell_type": "code",
   "execution_count": 88,
   "metadata": {},
   "outputs": [
    {
     "name": "stdout",
     "output_type": "stream",
     "text": [
      "Ridge Regression R2: 0.73\n"
     ]
    }
   ],
   "source": [
    "# Appending the list with r2 score\n",
    "# Dodanie do listy współczynnika determinacji R2\n",
    "scores.append(r2)\n",
    "print('Ridge Regression R2: {0:.2f}'.format(r2))"
   ]
  },
  {
   "cell_type": "markdown",
   "metadata": {},
   "source": [
    "# Adaboost classifier"
   ]
  },
  {
   "cell_type": "code",
   "execution_count": 89,
   "metadata": {},
   "outputs": [],
   "source": [
    "adaboost = AdaBoostRegressor(n_estimators=1000)\n",
    "adaboost.fit(X_train , y_train)\n",
    "y_pred = adaboost.predict(X_test)\n",
    "r2 = r2_score(y_test, y_pred)"
   ]
  },
  {
   "cell_type": "code",
   "execution_count": 90,
   "metadata": {},
   "outputs": [
    {
     "name": "stdout",
     "output_type": "stream",
     "text": [
      "AdaBoost Regression R2: 0.97\n"
     ]
    }
   ],
   "source": [
    "# Appending the list with r2 score\n",
    "# Dodanie do listy współczynnika determinacji R2\n",
    "scores.append(r2)\n",
    "print('AdaBoost Regression R2: {0:.2f}'.format(r2))"
   ]
  },
  {
   "cell_type": "markdown",
   "metadata": {},
   "source": [
    "# Random forest"
   ]
  },
  {
   "cell_type": "code",
   "execution_count": 91,
   "metadata": {},
   "outputs": [],
   "source": [
    "randomforest = RandomForestRegressor()\n",
    "randomforest .fit(X_train , y_train)\n",
    "y_pred = randomforest .predict(X_test)\n",
    "r2 = r2_score(y_test, y_pred)"
   ]
  },
  {
   "cell_type": "code",
   "execution_count": 92,
   "metadata": {},
   "outputs": [
    {
     "name": "stdout",
     "output_type": "stream",
     "text": [
      "Random Forest R2: 0.99\n"
     ]
    }
   ],
   "source": [
    "# Appending the list with r2 score\n",
    "# Dodanie do listy współczynnika determinacji R2\n",
    "scores.append(r2)\n",
    "print('Random Forest R2: {0:.2f}'.format(r2))"
   ]
  },
  {
   "cell_type": "markdown",
   "metadata": {},
   "source": [
    "# XGBOOST"
   ]
  },
  {
   "cell_type": "code",
   "execution_count": 93,
   "metadata": {},
   "outputs": [
    {
     "data": {
      "text/plain": [
       "XGBClassifier(base_score=0.5, booster='gbtree', colsample_bylevel=1,\n",
       "              colsample_bynode=1, colsample_bytree=1, gamma=0,\n",
       "              learning_rate=0.1, max_delta_step=0, max_depth=3,\n",
       "              min_child_weight=1, missing=None, n_estimators=100, n_jobs=1,\n",
       "              nthread=None, objective='multi:softprob', random_state=0,\n",
       "              reg_alpha=0, reg_lambda=1, scale_pos_weight=1, seed=None,\n",
       "              silent=None, subsample=1, verbosity=1)"
      ]
     },
     "execution_count": 93,
     "metadata": {},
     "output_type": "execute_result"
    }
   ],
   "source": [
    "# Fit model no training data\n",
    "# Dopasowanie modelu do danych uczących\n",
    "model = XGBClassifier()\n",
    "model.fit(X_train, y_train)"
   ]
  },
  {
   "cell_type": "code",
   "execution_count": 94,
   "metadata": {},
   "outputs": [],
   "source": [
    "# Make predictions for test data\n",
    "# Stworzenie predykcji\n",
    "y_pred = model.predict(X_test)\n",
    "predictions = [round(value) for value in y_pred]"
   ]
  },
  {
   "cell_type": "code",
   "execution_count": 95,
   "metadata": {},
   "outputs": [],
   "source": [
    "# Evaluate predictions\n",
    "# Oszacowanie współczynnika R2\n",
    "r2 = r2_score(y_test, predictions)"
   ]
  },
  {
   "cell_type": "code",
   "execution_count": 96,
   "metadata": {},
   "outputs": [
    {
     "name": "stdout",
     "output_type": "stream",
     "text": [
      "XGBoost R2: 0.90\n"
     ]
    }
   ],
   "source": [
    "# Appending the list with r2 score\n",
    "# Dodanie do listy współczynnika determinacji R2\n",
    "scores.append(r2)\n",
    "print('XGBoost R2: {0:.2f}'.format(r2))"
   ]
  },
  {
   "cell_type": "markdown",
   "metadata": {},
   "source": [
    "# Machine Learning algorthims R2 score comparison"
   ]
  },
  {
   "cell_type": "markdown",
   "metadata": {},
   "source": [
    "## Porównanie algorytmów uczenia maszynowego"
   ]
  },
  {
   "cell_type": "code",
   "execution_count": 97,
   "metadata": {},
   "outputs": [
    {
     "data": {
      "text/plain": [
       "<matplotlib.axes._subplots.AxesSubplot at 0x267c7afa788>"
      ]
     },
     "execution_count": 97,
     "metadata": {},
     "output_type": "execute_result"
    },
    {
     "data": {
      "image/png": "[encoded data removed]",
      "text/plain": [
       "<Figure size 432x288 with 1 Axes>"
      ]
     },
     "metadata": {
      "needs_background": "light"
     },
     "output_type": "display_data"
    }
   ],
   "source": [
    "# Showing comparison on bar plot\n",
    "# Przedstawienie porównania na wykresie słupkowym\n",
    "ranking = pd.DataFrame({'Algorithms' : models , 'R2-Scores' : scores})\n",
    "ranking = ranking.sort_values(by='R2-Scores' ,ascending=False)\n",
    "ranking\n",
    " \n",
    "sns.barplot(x='R2-Scores' , y='Algorithms' , data=ranking)"
   ]
  },
  {
   "cell_type": "code",
   "execution_count": null,
   "metadata": {},
   "outputs": [],
   "source": []
  }
 ],
 "metadata": {
  "kernelspec": {
   "display_name": "Python 3",
   "language": "python",
   "name": "python3"
  },
  "language_info": {
   "codemirror_mode": {
    "name": "ipython",
    "version": 3
   },
   "file_extension": ".py",
   "mimetype": "text/x-python",
   "name": "python",
   "nbconvert_exporter": "python",
   "pygments_lexer": "ipython3",
   "version": "3.7.4"
  }
 },
 "nbformat": 4,
 "nbformat_minor": 2
}
