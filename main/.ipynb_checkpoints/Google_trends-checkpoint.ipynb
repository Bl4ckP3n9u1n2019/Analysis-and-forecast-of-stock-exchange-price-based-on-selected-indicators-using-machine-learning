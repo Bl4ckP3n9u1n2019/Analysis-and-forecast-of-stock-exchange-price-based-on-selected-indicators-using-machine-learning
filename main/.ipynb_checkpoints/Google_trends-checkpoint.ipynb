{
 "cells": [
  {
   "cell_type": "markdown",
   "metadata": {},
   "source": [
    "Korzystając z pomysłu zaczerpniętego z tego artykułu - https://towardsdatascience.com/time-series-analysis-in-python-an-introduction-70d5a5b1d52a chciałem zobaczyć czy da się skorelować/porównać zmiany w kursach akcji, dla przykładu, FB i poszukiwania słowa \"facebook\" w wyszukiwarce google."
   ]
  },
  {
   "cell_type": "markdown",
   "metadata": {},
   "source": [
    "1. Do wyciągnięcia danych z Google Trends, z użyciem nioficjalnego API, użyjemy biblioteki Pytrends (https://pypi.org/project/pytrends)"
   ]
  },
  {
   "cell_type": "code",
   "execution_count": null,
   "metadata": {},
   "outputs": [],
   "source": [
    "from pytrends.request import TrendReq\n",
    "\n",
    "pytrend = TrendReq()\n",
    "pytrend.build_payload(kw_list = ['Facebook'], timeframe = '2010-01-01 2020-03-31')\n",
    "df = pytrend.interest_over_time()\n",
    "df = df.reset_index().drop('isPartial', 1)\n",
    "df.head(100)\n",
    "\n",
    "df.plot(x='date', y='Facebook', kind ='line')"
   ]
  },
  {
   "cell_type": "markdown",
   "metadata": {},
   "source": [
    "2. Używając biblioteki fbrophet (https://facebook.github.io/prophet/) budujemy model dla powyższej ramki danych i wyciągamy z niego \"changepoints\", czyli daty gdy następowła zmiana trendu.\n",
    "Korelacja mogłaby byc lepsza..."
   ]
  },
  {
   "cell_type": "code",
   "execution_count": null,
   "metadata": {},
   "outputs": [],
   "source": [
    "import matplotlib.pyplot as plt\n",
    "import fbprophet\n",
    "\n",
    "# Prophet wymaga zmainy nazwy kolumn na ds (Data) i y (wartość)\n",
    "df1 = df.rename(columns={'date': 'ds', 'Facebook': 'y'})\n",
    "\n",
    "# Dopasowanie modelu Prophet\n",
    "fb_prophet = fbprophet.Prophet(changepoint_prior_scale=0.3, n_changepoints=15)\n",
    "fb_prophet.fit(df1)\n",
    "\n",
    "# Wyciągnięcie changepoints\n",
    "fb_prophet.changepoints[:10]\n",
    "fb_changepoints = fb_prophet.changepoints\n",
    "\n",
    "# Wykres trendów wyszukiwań z nałżonymi changepoints\n",
    "plt.plot(df['date'], df['Facebook'], label = 'Searches')\n",
    "\n",
    "plt.vlines(fb_changepoints, ymin = 0, ymax= 100, colors = 'r', linewidth=0.6,\n",
    "           linestyles = 'dashed', label = 'Changepoints')\n",
    " \n",
    "plt.ylabel('Relative Search Freq'); plt.legend()\n",
    "plt.title('FB Search Terms and Changepoints');"
   ]
  },
  {
   "cell_type": "markdown",
   "metadata": {},
   "source": [
    "3. Zmiany trendu ilości wyszukiwań nałożymy na wykres ceny akcji (do dopracowania, quandl nie ściąga całego okresu...)"
   ]
  },
  {
   "cell_type": "code",
   "execution_count": null,
   "metadata": {},
   "outputs": [],
   "source": [
    "import quandl\n",
    "\n",
    "quandl.ApiConfig.api_key = 'jJLD2gkVUNrszRRebz2U'\n",
    "\n",
    "data = quandl.get(\"WIKI/FB\", start_date=\"2010-01-01\", end_date=\"2020-03-31\", collapse=\"monthly\")\n",
    "data1 = data.reset_index()\n",
    "data1 = data1[['Date','Close']]\n",
    "\n",
    "plt.plot(data1['Date'], data1['Close'], label = 'Closing price')\n",
    "\n",
    "# Plot the changepoints\n",
    "plt.vlines(fb_changepoints, ymin = 0, ymax= 200, colors = 'r', linewidth=0.6,\n",
    "           linestyles = 'dashed', label = 'Search changepoints')\n",
    " \n",
    "# Formatting of plot\n",
    "plt.ylabel('Relative Search Freq'); plt.legend()\n",
    "plt.title('FB Search Terms and Changepoints');"
   ]
  }
 ],
 "metadata": {
  "kernelspec": {
   "display_name": "Python 3.7.6 64-bit ('base': conda)",
   "language": "python",
   "name": "python37664bitbasecondad768b1d42898463a9917201a4dd54dab"
  },
  "language_info": {
   "codemirror_mode": {
    "name": "ipython",
    "version": 3
   },
   "file_extension": ".py",
   "mimetype": "text/x-python",
   "name": "python",
   "nbconvert_exporter": "python",
   "pygments_lexer": "ipython3",
   "version": "3.7.7"
  }
 },
 "nbformat": 4,
 "nbformat_minor": 4
}
