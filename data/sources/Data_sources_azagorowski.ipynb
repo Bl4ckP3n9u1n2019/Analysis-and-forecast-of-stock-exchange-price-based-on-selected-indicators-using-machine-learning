{
 "cells": [
  {
   "cell_type": "code",
   "execution_count": null,
   "metadata": {},
   "outputs": [],
   "source": [
    "# Źródła danych"
   ]
  },
  {
   "cell_type": "markdown",
   "metadata": {},
   "source": [
    "## Data sources"
   ]
  },
  {
   "cell_type": "code",
   "execution_count": null,
   "metadata": {},
   "outputs": [],
   "source": [
    "#[PL] Ropa naftowa"
   ]
  },
  {
   "cell_type": "markdown",
   "metadata": {},
   "source": [
    "**1) Crude oil**\n",
    "\n",
    "Table name: **crude_oil**\n",
    "\n",
    "Link: https://www.macrotrends.net/1369/crude-oil-price-history-chart"
   ]
  },
  {
   "cell_type": "code",
   "execution_count": 1,
   "metadata": {},
   "outputs": [],
   "source": [
    "#[PL] Gaz ziemny"
   ]
  },
  {
   "cell_type": "markdown",
   "metadata": {},
   "source": [
    "**2) Natural gas**\n",
    "\n",
    "Table name: **natural_gas**\n",
    "\n",
    "Link: https://www.macrotrends.net/2478/natural-gas-prices-historical-chart"
   ]
  },
  {
   "cell_type": "code",
   "execution_count": null,
   "metadata": {},
   "outputs": [],
   "source": [
    "#[PL] Miedź"
   ]
  },
  {
   "cell_type": "markdown",
   "metadata": {},
   "source": [
    "**3) Copper**\n",
    "\n",
    "Table name: **copper**\n",
    "\n",
    "Link: https://www.macrotrends.net/1476/copper-prices-historical-chart-data"
   ]
  },
  {
   "cell_type": "code",
   "execution_count": null,
   "metadata": {},
   "outputs": [],
   "source": [
    "# [PL] Pallad"
   ]
  },
  {
   "cell_type": "markdown",
   "metadata": {},
   "source": [
    "**4) Palladium**\n",
    "\n",
    "Table name: **palladium**\n",
    "\n",
    "Link: https://www.macrotrends.net/2542/palladium-prices-historical-chart-data"
   ]
  },
  {
   "cell_type": "code",
   "execution_count": null,
   "metadata": {},
   "outputs": [],
   "source": [
    "# [PL] Platyna"
   ]
  },
  {
   "cell_type": "markdown",
   "metadata": {},
   "source": [
    "**5) Platinum**\n",
    "\n",
    "Table name: **platinum**\n",
    "\n",
    "Link: https://www.macrotrends.net/2540/platinum-prices-historical-chart-data"
   ]
  },
  {
   "cell_type": "code",
   "execution_count": null,
   "metadata": {},
   "outputs": [],
   "source": [
    "# [PL] Produkcja przemysłowa"
   ]
  },
  {
   "cell_type": "markdown",
   "metadata": {},
   "source": [
    "**6) Industrial production**\n",
    "\n",
    "Table name: **industrial_prod**\n",
    "\n",
    "Link: https://www.macrotrends.net/2583/industrial-production-historical-chart"
   ]
  },
  {
   "cell_type": "code",
   "execution_count": null,
   "metadata": {},
   "outputs": [],
   "source": [
    "# [PL] Ceny akcji firmy Arch Coal"
   ]
  },
  {
   "cell_type": "markdown",
   "metadata": {},
   "source": [
    "**7) Arch Coal Stock Prices**\n",
    "\n",
    "Table name: **arch_coal**\n",
    "\n",
    "Link: https://www.macrotrends.net/stocks/charts/ARCH/arch-coal/stock-price-history"
   ]
  },
  {
   "cell_type": "code",
   "execution_count": null,
   "metadata": {},
   "outputs": [],
   "source": [
    "# [PL] Ceny akcji firmy Peabody Energy"
   ]
  },
  {
   "cell_type": "markdown",
   "metadata": {},
   "source": [
    "**8) Peabody Energy Stock Prices**\n",
    "\n",
    "Table name: **peabody**\n",
    "\n",
    "Link: https://www.macrotrends.net/stocks/charts/BTU/peabody-energy/stock-price-history"
   ]
  },
  {
   "cell_type": "code",
   "execution_count": null,
   "metadata": {},
   "outputs": [],
   "source": []
  }
 ],
 "metadata": {
  "kernelspec": {
   "display_name": "Python 3",
   "language": "python",
   "name": "python3"
  },
  "language_info": {
   "codemirror_mode": {
    "name": "ipython",
    "version": 3
   },
   "file_extension": ".py",
   "mimetype": "text/x-python",
   "name": "python",
   "nbconvert_exporter": "python",
   "pygments_lexer": "ipython3",
   "version": "3.7.4"
  }
 },
 "nbformat": 4,
 "nbformat_minor": 2
}
